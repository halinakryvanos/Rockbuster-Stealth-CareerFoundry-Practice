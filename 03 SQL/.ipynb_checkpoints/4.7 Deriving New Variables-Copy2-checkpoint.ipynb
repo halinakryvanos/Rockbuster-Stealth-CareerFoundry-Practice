{
 "cells": [
  {
   "cell_type": "markdown",
   "id": "18179d34",
   "metadata": {
    "ExecuteTime": {
     "end_time": "2022-10-20T13:55:24.758389Z",
     "start_time": "2022-10-20T13:55:23.574011Z"
    }
   },
   "source": [
    "## This file contains following points:  \n",
    " 1.Exercise 4.7  \n",
    " 2.Answers Task 4.7"
   ]
  },
  {
   "cell_type": "code",
   "execution_count": 4,
   "id": "f6d84eaa",
   "metadata": {
    "ExecuteTime": {
     "end_time": "2022-10-20T23:43:38.425002Z",
     "start_time": "2022-10-20T23:43:36.614210Z"
    }
   },
   "outputs": [],
   "source": [
    "# Import libraries\n",
    "import pandas as pd\n",
    "import numpy as np\n",
    "import os"
   ]
  },
  {
   "cell_type": "code",
   "execution_count": 5,
   "id": "3367209d",
   "metadata": {
    "ExecuteTime": {
     "end_time": "2022-10-20T23:43:39.388266Z",
     "start_time": "2022-10-20T23:43:39.385565Z"
    }
   },
   "outputs": [],
   "source": [
    "# Defining path\n",
    "path = r'/Users/macbook/Library/CloudStorage/OneDrive-Personal/Data Analisys/Instacart/02 Data'"
   ]
  },
  {
   "cell_type": "code",
   "execution_count": 6,
   "id": "ad591a9a",
   "metadata": {
    "ExecuteTime": {
     "end_time": "2022-10-20T23:43:45.344285Z",
     "start_time": "2022-10-20T23:43:40.519901Z"
    }
   },
   "outputs": [],
   "source": [
    "# import orders_products_merged.pkl\n",
    "df_orders_products_merged = pd.read_pickle(os.path.join(path, 'Prepared Data', 'orders_products_merged.pkl'))"
   ]
  },
  {
   "cell_type": "markdown",
   "id": "1eeb4347",
   "metadata": {},
   "source": [
    "# Exercise 4.7"
   ]
  },
  {
   "cell_type": "code",
   "execution_count": 7,
   "id": "424df90a",
   "metadata": {
    "ExecuteTime": {
     "end_time": "2022-10-20T23:43:45.375302Z",
     "start_time": "2022-10-20T23:43:45.346760Z"
    },
    "scrolled": true
   },
   "outputs": [
    {
     "data": {
      "text/html": [
       "<div>\n",
       "<style scoped>\n",
       "    .dataframe tbody tr th:only-of-type {\n",
       "        vertical-align: middle;\n",
       "    }\n",
       "\n",
       "    .dataframe tbody tr th {\n",
       "        vertical-align: top;\n",
       "    }\n",
       "\n",
       "    .dataframe thead th {\n",
       "        text-align: right;\n",
       "    }\n",
       "</style>\n",
       "<table border=\"1\" class=\"dataframe\">\n",
       "  <thead>\n",
       "    <tr style=\"text-align: right;\">\n",
       "      <th></th>\n",
       "      <th>order_id</th>\n",
       "      <th>customer_id</th>\n",
       "      <th>order_number</th>\n",
       "      <th>orders_day_of_week</th>\n",
       "      <th>order_hour_of_day</th>\n",
       "      <th>days_since_prior_order</th>\n",
       "      <th>product_id</th>\n",
       "      <th>add_to_cart_order</th>\n",
       "      <th>reordered</th>\n",
       "      <th>product_name</th>\n",
       "      <th>aisle_id</th>\n",
       "      <th>department_id</th>\n",
       "      <th>prices</th>\n",
       "      <th>_merge</th>\n",
       "    </tr>\n",
       "  </thead>\n",
       "  <tbody>\n",
       "    <tr>\n",
       "      <th>0</th>\n",
       "      <td>2539329</td>\n",
       "      <td>1</td>\n",
       "      <td>1</td>\n",
       "      <td>2</td>\n",
       "      <td>8</td>\n",
       "      <td>NaN</td>\n",
       "      <td>196.0</td>\n",
       "      <td>1.0</td>\n",
       "      <td>0.0</td>\n",
       "      <td>Soda</td>\n",
       "      <td>77</td>\n",
       "      <td>7</td>\n",
       "      <td>9.0</td>\n",
       "      <td>both</td>\n",
       "    </tr>\n",
       "    <tr>\n",
       "      <th>1</th>\n",
       "      <td>2398795</td>\n",
       "      <td>1</td>\n",
       "      <td>2</td>\n",
       "      <td>3</td>\n",
       "      <td>7</td>\n",
       "      <td>15.0</td>\n",
       "      <td>196.0</td>\n",
       "      <td>1.0</td>\n",
       "      <td>1.0</td>\n",
       "      <td>Soda</td>\n",
       "      <td>77</td>\n",
       "      <td>7</td>\n",
       "      <td>9.0</td>\n",
       "      <td>both</td>\n",
       "    </tr>\n",
       "    <tr>\n",
       "      <th>2</th>\n",
       "      <td>473747</td>\n",
       "      <td>1</td>\n",
       "      <td>3</td>\n",
       "      <td>3</td>\n",
       "      <td>12</td>\n",
       "      <td>21.0</td>\n",
       "      <td>196.0</td>\n",
       "      <td>1.0</td>\n",
       "      <td>1.0</td>\n",
       "      <td>Soda</td>\n",
       "      <td>77</td>\n",
       "      <td>7</td>\n",
       "      <td>9.0</td>\n",
       "      <td>both</td>\n",
       "    </tr>\n",
       "    <tr>\n",
       "      <th>3</th>\n",
       "      <td>2254736</td>\n",
       "      <td>1</td>\n",
       "      <td>4</td>\n",
       "      <td>4</td>\n",
       "      <td>7</td>\n",
       "      <td>29.0</td>\n",
       "      <td>196.0</td>\n",
       "      <td>1.0</td>\n",
       "      <td>1.0</td>\n",
       "      <td>Soda</td>\n",
       "      <td>77</td>\n",
       "      <td>7</td>\n",
       "      <td>9.0</td>\n",
       "      <td>both</td>\n",
       "    </tr>\n",
       "    <tr>\n",
       "      <th>4</th>\n",
       "      <td>431534</td>\n",
       "      <td>1</td>\n",
       "      <td>5</td>\n",
       "      <td>4</td>\n",
       "      <td>15</td>\n",
       "      <td>28.0</td>\n",
       "      <td>196.0</td>\n",
       "      <td>1.0</td>\n",
       "      <td>1.0</td>\n",
       "      <td>Soda</td>\n",
       "      <td>77</td>\n",
       "      <td>7</td>\n",
       "      <td>9.0</td>\n",
       "      <td>both</td>\n",
       "    </tr>\n",
       "  </tbody>\n",
       "</table>\n",
       "</div>"
      ],
      "text/plain": [
       "   order_id  customer_id  order_number  orders_day_of_week  order_hour_of_day  \\\n",
       "0   2539329            1             1                   2                  8   \n",
       "1   2398795            1             2                   3                  7   \n",
       "2    473747            1             3                   3                 12   \n",
       "3   2254736            1             4                   4                  7   \n",
       "4    431534            1             5                   4                 15   \n",
       "\n",
       "   days_since_prior_order  product_id  add_to_cart_order  reordered  \\\n",
       "0                     NaN       196.0                1.0        0.0   \n",
       "1                    15.0       196.0                1.0        1.0   \n",
       "2                    21.0       196.0                1.0        1.0   \n",
       "3                    29.0       196.0                1.0        1.0   \n",
       "4                    28.0       196.0                1.0        1.0   \n",
       "\n",
       "  product_name  aisle_id  department_id  prices _merge  \n",
       "0         Soda        77              7     9.0   both  \n",
       "1         Soda        77              7     9.0   both  \n",
       "2         Soda        77              7     9.0   both  \n",
       "3         Soda        77              7     9.0   both  \n",
       "4         Soda        77              7     9.0   both  "
      ]
     },
     "execution_count": 7,
     "metadata": {},
     "output_type": "execute_result"
    }
   ],
   "source": [
    "df_orders_products_merged.head()"
   ]
  },
  {
   "cell_type": "code",
   "execution_count": 9,
   "id": "249db696",
   "metadata": {
    "ExecuteTime": {
     "end_time": "2022-10-20T23:43:49.798174Z",
     "start_time": "2022-10-20T23:43:49.793757Z"
    }
   },
   "outputs": [],
   "source": [
    "df = df_orders_products_merged[:1000000]"
   ]
  },
  {
   "cell_type": "markdown",
   "id": "3bf2c80d",
   "metadata": {},
   "source": [
    "#### 1. If-Statement using function"
   ]
  },
  {
   "cell_type": "code",
   "execution_count": 10,
   "id": "a4e2e770",
   "metadata": {
    "ExecuteTime": {
     "end_time": "2022-10-20T23:43:51.946195Z",
     "start_time": "2022-10-20T23:43:51.941106Z"
    }
   },
   "outputs": [],
   "source": [
    "# Row is standard argument looking at each row within DataFrame\n",
    "\n",
    "def price_label(row):\n",
    "\n",
    "  if row['prices'] <= 5:\n",
    "    return 'Low-range product'\n",
    "  elif (row['prices'] > 5) and (row['prices'] <= 15):\n",
    "    return 'Mid-range product'\n",
    "  elif row['prices'] > 15:\n",
    "    return 'High range'\n",
    "  else: return 'Not enough data'"
   ]
  },
  {
   "cell_type": "code",
   "execution_count": 11,
   "id": "d83490c0",
   "metadata": {
    "ExecuteTime": {
     "end_time": "2022-10-20T23:44:06.625622Z",
     "start_time": "2022-10-20T23:43:54.197963Z"
    },
    "scrolled": true
   },
   "outputs": [
    {
     "name": "stderr",
     "output_type": "stream",
     "text": [
      "/var/folders/w2/swqynjr91bldf6fp6tjyc9x80000gn/T/ipykernel_14674/2848743372.py:1: SettingWithCopyWarning: \n",
      "A value is trying to be set on a copy of a slice from a DataFrame.\n",
      "Try using .loc[row_indexer,col_indexer] = value instead\n",
      "\n",
      "See the caveats in the documentation: https://pandas.pydata.org/pandas-docs/stable/user_guide/indexing.html#returning-a-view-versus-a-copy\n",
      "  df['price_range'] = df.apply(price_label, axis=1)\n"
     ]
    }
   ],
   "source": [
    "df['price_range'] = df.apply(price_label, axis=1)"
   ]
  },
  {
   "cell_type": "code",
   "execution_count": 12,
   "id": "60e75b95",
   "metadata": {
    "ExecuteTime": {
     "end_time": "2022-10-20T23:44:06.645996Z",
     "start_time": "2022-10-20T23:44:06.628150Z"
    }
   },
   "outputs": [
    {
     "data": {
      "text/plain": [
       "Mid-range product    756450\n",
       "Low-range product    243550\n",
       "Name: price_range, dtype: int64"
      ]
     },
     "execution_count": 12,
     "metadata": {},
     "output_type": "execute_result"
    }
   ],
   "source": [
    "df['price_range'].value_counts(dropna = False)"
   ]
  },
  {
   "cell_type": "code",
   "execution_count": 13,
   "id": "e7165c64",
   "metadata": {
    "ExecuteTime": {
     "end_time": "2022-10-20T23:44:06.656047Z",
     "start_time": "2022-10-20T23:44:06.648776Z"
    }
   },
   "outputs": [
    {
     "data": {
      "text/plain": [
       "14.8"
      ]
     },
     "execution_count": 13,
     "metadata": {},
     "output_type": "execute_result"
    }
   ],
   "source": [
    "df['prices'].max()"
   ]
  },
  {
   "cell_type": "markdown",
   "id": "e1d3264e",
   "metadata": {},
   "source": [
    "#### 2. If-Statements with the loc() Function"
   ]
  },
  {
   "cell_type": "code",
   "execution_count": 14,
   "id": "778f9636",
   "metadata": {
    "ExecuteTime": {
     "end_time": "2022-10-20T23:44:08.264612Z",
     "start_time": "2022-10-20T23:44:06.659585Z"
    }
   },
   "outputs": [],
   "source": [
    "df_orders_products_merged.loc[df_orders_products_merged['prices'] > 15, 'price_range_loc'] = 'High-range product'"
   ]
  },
  {
   "cell_type": "code",
   "execution_count": 15,
   "id": "dc05c0cb",
   "metadata": {
    "ExecuteTime": {
     "end_time": "2022-10-20T23:44:09.379747Z",
     "start_time": "2022-10-20T23:44:08.267113Z"
    }
   },
   "outputs": [],
   "source": [
    "df_orders_products_merged.loc[(df_orders_products_merged['prices'] <= 15) & (df_orders_products_merged['prices'] > 5), 'price_range_loc'] = 'Mid-range product'"
   ]
  },
  {
   "cell_type": "code",
   "execution_count": 16,
   "id": "2c9be65c",
   "metadata": {
    "ExecuteTime": {
     "end_time": "2022-10-20T23:44:09.901268Z",
     "start_time": "2022-10-20T23:44:09.381250Z"
    }
   },
   "outputs": [],
   "source": [
    "df_orders_products_merged.loc[df_orders_products_merged['prices'] <= 5, 'price_range_loc'] = 'Low-range product'"
   ]
  },
  {
   "cell_type": "code",
   "execution_count": 18,
   "id": "43b11e97",
   "metadata": {
    "ExecuteTime": {
     "end_time": "2022-10-20T23:44:10.712588Z",
     "start_time": "2022-10-20T23:44:10.307886Z"
    }
   },
   "outputs": [
    {
     "data": {
      "text/plain": [
       "Mid-range product     21860860\n",
       "Low-range product     10126321\n",
       "High-range product      417678\n",
       "Name: price_range_loc, dtype: int64"
      ]
     },
     "execution_count": 18,
     "metadata": {},
     "output_type": "execute_result"
    }
   ],
   "source": [
    "df_orders_products_merged['price_range_loc'].value_counts(dropna = False)"
   ]
  },
  {
   "cell_type": "markdown",
   "id": "1e168013",
   "metadata": {},
   "source": [
    "#### 3. If-Statements with For-Loops"
   ]
  },
  {
   "cell_type": "code",
   "execution_count": 19,
   "id": "07611649",
   "metadata": {
    "ExecuteTime": {
     "end_time": "2022-10-20T23:44:12.944509Z",
     "start_time": "2022-10-20T23:44:12.921612Z"
    }
   },
   "outputs": [
    {
     "data": {
      "text/html": [
       "<div>\n",
       "<style scoped>\n",
       "    .dataframe tbody tr th:only-of-type {\n",
       "        vertical-align: middle;\n",
       "    }\n",
       "\n",
       "    .dataframe tbody tr th {\n",
       "        vertical-align: top;\n",
       "    }\n",
       "\n",
       "    .dataframe thead th {\n",
       "        text-align: right;\n",
       "    }\n",
       "</style>\n",
       "<table border=\"1\" class=\"dataframe\">\n",
       "  <thead>\n",
       "    <tr style=\"text-align: right;\">\n",
       "      <th></th>\n",
       "      <th>order_id</th>\n",
       "      <th>customer_id</th>\n",
       "      <th>order_number</th>\n",
       "      <th>orders_day_of_week</th>\n",
       "      <th>order_hour_of_day</th>\n",
       "      <th>days_since_prior_order</th>\n",
       "      <th>product_id</th>\n",
       "      <th>add_to_cart_order</th>\n",
       "      <th>reordered</th>\n",
       "      <th>product_name</th>\n",
       "      <th>aisle_id</th>\n",
       "      <th>department_id</th>\n",
       "      <th>prices</th>\n",
       "      <th>_merge</th>\n",
       "      <th>price_range_loc</th>\n",
       "    </tr>\n",
       "  </thead>\n",
       "  <tbody>\n",
       "    <tr>\n",
       "      <th>0</th>\n",
       "      <td>2539329</td>\n",
       "      <td>1</td>\n",
       "      <td>1</td>\n",
       "      <td>2</td>\n",
       "      <td>8</td>\n",
       "      <td>NaN</td>\n",
       "      <td>196.0</td>\n",
       "      <td>1.0</td>\n",
       "      <td>0.0</td>\n",
       "      <td>Soda</td>\n",
       "      <td>77</td>\n",
       "      <td>7</td>\n",
       "      <td>9.0</td>\n",
       "      <td>both</td>\n",
       "      <td>Mid-range product</td>\n",
       "    </tr>\n",
       "    <tr>\n",
       "      <th>1</th>\n",
       "      <td>2398795</td>\n",
       "      <td>1</td>\n",
       "      <td>2</td>\n",
       "      <td>3</td>\n",
       "      <td>7</td>\n",
       "      <td>15.0</td>\n",
       "      <td>196.0</td>\n",
       "      <td>1.0</td>\n",
       "      <td>1.0</td>\n",
       "      <td>Soda</td>\n",
       "      <td>77</td>\n",
       "      <td>7</td>\n",
       "      <td>9.0</td>\n",
       "      <td>both</td>\n",
       "      <td>Mid-range product</td>\n",
       "    </tr>\n",
       "    <tr>\n",
       "      <th>2</th>\n",
       "      <td>473747</td>\n",
       "      <td>1</td>\n",
       "      <td>3</td>\n",
       "      <td>3</td>\n",
       "      <td>12</td>\n",
       "      <td>21.0</td>\n",
       "      <td>196.0</td>\n",
       "      <td>1.0</td>\n",
       "      <td>1.0</td>\n",
       "      <td>Soda</td>\n",
       "      <td>77</td>\n",
       "      <td>7</td>\n",
       "      <td>9.0</td>\n",
       "      <td>both</td>\n",
       "      <td>Mid-range product</td>\n",
       "    </tr>\n",
       "    <tr>\n",
       "      <th>3</th>\n",
       "      <td>2254736</td>\n",
       "      <td>1</td>\n",
       "      <td>4</td>\n",
       "      <td>4</td>\n",
       "      <td>7</td>\n",
       "      <td>29.0</td>\n",
       "      <td>196.0</td>\n",
       "      <td>1.0</td>\n",
       "      <td>1.0</td>\n",
       "      <td>Soda</td>\n",
       "      <td>77</td>\n",
       "      <td>7</td>\n",
       "      <td>9.0</td>\n",
       "      <td>both</td>\n",
       "      <td>Mid-range product</td>\n",
       "    </tr>\n",
       "    <tr>\n",
       "      <th>4</th>\n",
       "      <td>431534</td>\n",
       "      <td>1</td>\n",
       "      <td>5</td>\n",
       "      <td>4</td>\n",
       "      <td>15</td>\n",
       "      <td>28.0</td>\n",
       "      <td>196.0</td>\n",
       "      <td>1.0</td>\n",
       "      <td>1.0</td>\n",
       "      <td>Soda</td>\n",
       "      <td>77</td>\n",
       "      <td>7</td>\n",
       "      <td>9.0</td>\n",
       "      <td>both</td>\n",
       "      <td>Mid-range product</td>\n",
       "    </tr>\n",
       "    <tr>\n",
       "      <th>...</th>\n",
       "      <td>...</td>\n",
       "      <td>...</td>\n",
       "      <td>...</td>\n",
       "      <td>...</td>\n",
       "      <td>...</td>\n",
       "      <td>...</td>\n",
       "      <td>...</td>\n",
       "      <td>...</td>\n",
       "      <td>...</td>\n",
       "      <td>...</td>\n",
       "      <td>...</td>\n",
       "      <td>...</td>\n",
       "      <td>...</td>\n",
       "      <td>...</td>\n",
       "      <td>...</td>\n",
       "    </tr>\n",
       "    <tr>\n",
       "      <th>32404854</th>\n",
       "      <td>1320836</td>\n",
       "      <td>202557</td>\n",
       "      <td>17</td>\n",
       "      <td>2</td>\n",
       "      <td>15</td>\n",
       "      <td>1.0</td>\n",
       "      <td>43553.0</td>\n",
       "      <td>2.0</td>\n",
       "      <td>1.0</td>\n",
       "      <td>Orange Energy Shots</td>\n",
       "      <td>64</td>\n",
       "      <td>7</td>\n",
       "      <td>3.7</td>\n",
       "      <td>both</td>\n",
       "      <td>Low-range product</td>\n",
       "    </tr>\n",
       "    <tr>\n",
       "      <th>32404855</th>\n",
       "      <td>31526</td>\n",
       "      <td>202557</td>\n",
       "      <td>18</td>\n",
       "      <td>5</td>\n",
       "      <td>11</td>\n",
       "      <td>3.0</td>\n",
       "      <td>43553.0</td>\n",
       "      <td>2.0</td>\n",
       "      <td>1.0</td>\n",
       "      <td>Orange Energy Shots</td>\n",
       "      <td>64</td>\n",
       "      <td>7</td>\n",
       "      <td>3.7</td>\n",
       "      <td>both</td>\n",
       "      <td>Low-range product</td>\n",
       "    </tr>\n",
       "    <tr>\n",
       "      <th>32404856</th>\n",
       "      <td>758936</td>\n",
       "      <td>203436</td>\n",
       "      <td>1</td>\n",
       "      <td>2</td>\n",
       "      <td>7</td>\n",
       "      <td>NaN</td>\n",
       "      <td>42338.0</td>\n",
       "      <td>4.0</td>\n",
       "      <td>0.0</td>\n",
       "      <td>Zucchini Chips, Pesto</td>\n",
       "      <td>50</td>\n",
       "      <td>19</td>\n",
       "      <td>6.9</td>\n",
       "      <td>both</td>\n",
       "      <td>Mid-range product</td>\n",
       "    </tr>\n",
       "    <tr>\n",
       "      <th>32404857</th>\n",
       "      <td>2745165</td>\n",
       "      <td>203436</td>\n",
       "      <td>2</td>\n",
       "      <td>3</td>\n",
       "      <td>5</td>\n",
       "      <td>15.0</td>\n",
       "      <td>42338.0</td>\n",
       "      <td>16.0</td>\n",
       "      <td>1.0</td>\n",
       "      <td>Zucchini Chips, Pesto</td>\n",
       "      <td>50</td>\n",
       "      <td>19</td>\n",
       "      <td>6.9</td>\n",
       "      <td>both</td>\n",
       "      <td>Mid-range product</td>\n",
       "    </tr>\n",
       "    <tr>\n",
       "      <th>32404858</th>\n",
       "      <td>3093936</td>\n",
       "      <td>205420</td>\n",
       "      <td>1</td>\n",
       "      <td>4</td>\n",
       "      <td>14</td>\n",
       "      <td>NaN</td>\n",
       "      <td>28818.0</td>\n",
       "      <td>8.0</td>\n",
       "      <td>0.0</td>\n",
       "      <td>Hot Oatmeal Multigrain Raisin</td>\n",
       "      <td>130</td>\n",
       "      <td>14</td>\n",
       "      <td>10.3</td>\n",
       "      <td>both</td>\n",
       "      <td>Mid-range product</td>\n",
       "    </tr>\n",
       "  </tbody>\n",
       "</table>\n",
       "<p>32404859 rows × 15 columns</p>\n",
       "</div>"
      ],
      "text/plain": [
       "          order_id  customer_id  order_number  orders_day_of_week  \\\n",
       "0          2539329            1             1                   2   \n",
       "1          2398795            1             2                   3   \n",
       "2           473747            1             3                   3   \n",
       "3          2254736            1             4                   4   \n",
       "4           431534            1             5                   4   \n",
       "...            ...          ...           ...                 ...   \n",
       "32404854   1320836       202557            17                   2   \n",
       "32404855     31526       202557            18                   5   \n",
       "32404856    758936       203436             1                   2   \n",
       "32404857   2745165       203436             2                   3   \n",
       "32404858   3093936       205420             1                   4   \n",
       "\n",
       "          order_hour_of_day  days_since_prior_order  product_id  \\\n",
       "0                         8                     NaN       196.0   \n",
       "1                         7                    15.0       196.0   \n",
       "2                        12                    21.0       196.0   \n",
       "3                         7                    29.0       196.0   \n",
       "4                        15                    28.0       196.0   \n",
       "...                     ...                     ...         ...   \n",
       "32404854                 15                     1.0     43553.0   \n",
       "32404855                 11                     3.0     43553.0   \n",
       "32404856                  7                     NaN     42338.0   \n",
       "32404857                  5                    15.0     42338.0   \n",
       "32404858                 14                     NaN     28818.0   \n",
       "\n",
       "          add_to_cart_order  reordered                   product_name  \\\n",
       "0                       1.0        0.0                           Soda   \n",
       "1                       1.0        1.0                           Soda   \n",
       "2                       1.0        1.0                           Soda   \n",
       "3                       1.0        1.0                           Soda   \n",
       "4                       1.0        1.0                           Soda   \n",
       "...                     ...        ...                            ...   \n",
       "32404854                2.0        1.0            Orange Energy Shots   \n",
       "32404855                2.0        1.0            Orange Energy Shots   \n",
       "32404856                4.0        0.0          Zucchini Chips, Pesto   \n",
       "32404857               16.0        1.0          Zucchini Chips, Pesto   \n",
       "32404858                8.0        0.0  Hot Oatmeal Multigrain Raisin   \n",
       "\n",
       "          aisle_id  department_id  prices _merge    price_range_loc  \n",
       "0               77              7     9.0   both  Mid-range product  \n",
       "1               77              7     9.0   both  Mid-range product  \n",
       "2               77              7     9.0   both  Mid-range product  \n",
       "3               77              7     9.0   both  Mid-range product  \n",
       "4               77              7     9.0   both  Mid-range product  \n",
       "...            ...            ...     ...    ...                ...  \n",
       "32404854        64              7     3.7   both  Low-range product  \n",
       "32404855        64              7     3.7   both  Low-range product  \n",
       "32404856        50             19     6.9   both  Mid-range product  \n",
       "32404857        50             19     6.9   both  Mid-range product  \n",
       "32404858       130             14    10.3   both  Mid-range product  \n",
       "\n",
       "[32404859 rows x 15 columns]"
      ]
     },
     "execution_count": 19,
     "metadata": {},
     "output_type": "execute_result"
    }
   ],
   "source": [
    "df_orders_products_merged"
   ]
  },
  {
   "cell_type": "code",
   "execution_count": 20,
   "id": "cd865f72",
   "metadata": {
    "ExecuteTime": {
     "end_time": "2022-10-20T23:44:16.832010Z",
     "start_time": "2022-10-20T23:44:16.366260Z"
    },
    "scrolled": true
   },
   "outputs": [
    {
     "data": {
      "text/plain": [
       "0    6204182\n",
       "1    5660230\n",
       "6    4496490\n",
       "2    4213830\n",
       "5    4205791\n",
       "3    3840534\n",
       "4    3783802\n",
       "Name: orders_day_of_week, dtype: int64"
      ]
     },
     "execution_count": 20,
     "metadata": {},
     "output_type": "execute_result"
    }
   ],
   "source": [
    "df_orders_products_merged['orders_day_of_week'].value_counts(dropna = False)"
   ]
  },
  {
   "cell_type": "code",
   "execution_count": 21,
   "id": "38893a93",
   "metadata": {
    "ExecuteTime": {
     "end_time": "2022-10-20T23:44:24.791948Z",
     "start_time": "2022-10-20T23:44:18.956424Z"
    }
   },
   "outputs": [],
   "source": [
    "result = []\n",
    "\n",
    "for value in df_orders_products_merged[\"orders_day_of_week\"]:\n",
    "  if value == 0:\n",
    "    result.append(\"Busiest day\")\n",
    "  elif value == 4:\n",
    "    result.append(\"Least busy\")\n",
    "  else:\n",
    "    result.append(\"Regularly busy\")"
   ]
  },
  {
   "cell_type": "code",
   "execution_count": 22,
   "id": "5f2a817e",
   "metadata": {
    "ExecuteTime": {
     "end_time": "2022-10-20T23:44:25.898601Z",
     "start_time": "2022-10-20T23:44:24.794765Z"
    },
    "scrolled": true
   },
   "outputs": [],
   "source": [
    "df_orders_products_merged['busiest_day'] = result"
   ]
  },
  {
   "cell_type": "code",
   "execution_count": 23,
   "id": "057c59b8",
   "metadata": {
    "ExecuteTime": {
     "end_time": "2022-10-20T23:44:26.307251Z",
     "start_time": "2022-10-20T23:44:25.900478Z"
    }
   },
   "outputs": [
    {
     "data": {
      "text/plain": [
       "Regularly busy    22416875\n",
       "Busiest day        6204182\n",
       "Least busy         3783802\n",
       "Name: busiest_day, dtype: int64"
      ]
     },
     "execution_count": 23,
     "metadata": {},
     "output_type": "execute_result"
    }
   ],
   "source": [
    "df_orders_products_merged['busiest_day'].value_counts(dropna = False)"
   ]
  },
  {
   "cell_type": "code",
   "execution_count": 24,
   "id": "644a2b8d",
   "metadata": {
    "ExecuteTime": {
     "end_time": "2022-10-20T23:44:26.314356Z",
     "start_time": "2022-10-20T23:44:26.310249Z"
    }
   },
   "outputs": [
    {
     "data": {
      "text/plain": [
       "32404859"
      ]
     },
     "execution_count": 24,
     "metadata": {},
     "output_type": "execute_result"
    }
   ],
   "source": [
    "len(result)"
   ]
  },
  {
   "cell_type": "code",
   "execution_count": 25,
   "id": "cc1e0053",
   "metadata": {
    "ExecuteTime": {
     "end_time": "2022-10-20T23:44:26.319849Z",
     "start_time": "2022-10-20T23:44:26.316166Z"
    }
   },
   "outputs": [
    {
     "data": {
      "text/plain": [
       "(32404859, 16)"
      ]
     },
     "execution_count": 25,
     "metadata": {},
     "output_type": "execute_result"
    }
   ],
   "source": [
    "df_orders_products_merged.shape"
   ]
  },
  {
   "cell_type": "markdown",
   "id": "b9540cd2",
   "metadata": {},
   "source": [
    "## Task 4.7"
   ]
  },
  {
   "cell_type": "markdown",
   "id": "d2ef6868",
   "metadata": {},
   "source": [
    "#### Suppose your clients have changed their minds about the labels you created in your “busiest_day” column. Now, they want “Busiest day” to become “Busiest days” (plural)\n",
    "This label should correspond with the two busiest days of the week as opposed to the single busiest day. At the same time, they’d also like to know the two slowest days. Create a new column for this using a suitable method."
   ]
  },
  {
   "cell_type": "code",
   "execution_count": 26,
   "id": "f642fb5e",
   "metadata": {
    "ExecuteTime": {
     "end_time": "2022-10-20T23:44:37.027862Z",
     "start_time": "2022-10-20T23:44:36.873294Z"
    }
   },
   "outputs": [],
   "source": [
    "labeling_counts = df_orders_products_merged['orders_day_of_week'].value_counts(dropna = False)"
   ]
  },
  {
   "cell_type": "code",
   "execution_count": 27,
   "id": "1f2c8b61",
   "metadata": {
    "ExecuteTime": {
     "end_time": "2022-10-20T23:44:38.067329Z",
     "start_time": "2022-10-20T23:44:38.060534Z"
    }
   },
   "outputs": [
    {
     "data": {
      "text/plain": [
       "0    6204182\n",
       "1    5660230\n",
       "6    4496490\n",
       "2    4213830\n",
       "5    4205791\n",
       "3    3840534\n",
       "4    3783802\n",
       "Name: orders_day_of_week, dtype: int64"
      ]
     },
     "execution_count": 27,
     "metadata": {},
     "output_type": "execute_result"
    }
   ],
   "source": [
    "labeling_counts"
   ]
  },
  {
   "cell_type": "code",
   "execution_count": 28,
   "id": "b8983f20",
   "metadata": {
    "ExecuteTime": {
     "end_time": "2022-10-20T23:44:40.123205Z",
     "start_time": "2022-10-20T23:44:40.117009Z"
    }
   },
   "outputs": [
    {
     "data": {
      "text/plain": [
       "Int64Index([0, 1, 6, 2, 5, 3, 4], dtype='int64')"
      ]
     },
     "execution_count": 28,
     "metadata": {},
     "output_type": "execute_result"
    }
   ],
   "source": [
    "labeling_counts.index"
   ]
  },
  {
   "cell_type": "code",
   "execution_count": 29,
   "id": "6e644d9e",
   "metadata": {
    "ExecuteTime": {
     "end_time": "2022-10-20T23:44:41.317276Z",
     "start_time": "2022-10-20T23:44:41.313642Z"
    }
   },
   "outputs": [],
   "source": [
    "# As index in this case is day nummber and sorted (ascending), 2 busiest days and 2 slowest days are found.\n",
    "# I will use it as automated comparison for the days labeling by converting into list"
   ]
  },
  {
   "cell_type": "code",
   "execution_count": 30,
   "id": "e425d82f",
   "metadata": {
    "ExecuteTime": {
     "end_time": "2022-10-20T23:44:43.312374Z",
     "start_time": "2022-10-20T23:44:43.308944Z"
    }
   },
   "outputs": [],
   "source": [
    "day_number = list(labeling_counts.index)"
   ]
  },
  {
   "cell_type": "code",
   "execution_count": 31,
   "id": "06f8c8e6",
   "metadata": {
    "ExecuteTime": {
     "end_time": "2022-10-20T23:44:44.447548Z",
     "start_time": "2022-10-20T23:44:44.443604Z"
    }
   },
   "outputs": [
    {
     "data": {
      "text/plain": [
       "[0, 1, 6, 2, 5, 3, 4]"
      ]
     },
     "execution_count": 31,
     "metadata": {},
     "output_type": "execute_result"
    }
   ],
   "source": [
    "day_number"
   ]
  },
  {
   "cell_type": "code",
   "execution_count": 32,
   "id": "f1e941cf",
   "metadata": {
    "ExecuteTime": {
     "end_time": "2022-10-20T23:44:58.131513Z",
     "start_time": "2022-10-20T23:44:46.480013Z"
    }
   },
   "outputs": [],
   "source": [
    "results = []\n",
    "\n",
    "for value in df_orders_products_merged['orders_day_of_week']:\n",
    "    if value == day_number[0] or value == day_number[1]:\n",
    "        results.append('Busiest days')\n",
    "    elif value == day_number[len(day_number) - 1] or value == day_number[len(day_number) - 2]:\n",
    "        results.append('Slowest days')\n",
    "    else:\n",
    "        results.append('Regulary busy days')"
   ]
  },
  {
   "cell_type": "code",
   "execution_count": 33,
   "id": "640aab23",
   "metadata": {
    "ExecuteTime": {
     "end_time": "2022-10-20T23:44:58.139123Z",
     "start_time": "2022-10-20T23:44:58.134653Z"
    }
   },
   "outputs": [
    {
     "data": {
      "text/plain": [
       "32404859"
      ]
     },
     "execution_count": 33,
     "metadata": {},
     "output_type": "execute_result"
    }
   ],
   "source": [
    "# Checking if results length = DataFrame length\n",
    "len(results)"
   ]
  },
  {
   "cell_type": "code",
   "execution_count": 34,
   "id": "41058be1",
   "metadata": {
    "ExecuteTime": {
     "end_time": "2022-10-20T23:44:58.144601Z",
     "start_time": "2022-10-20T23:44:58.141061Z"
    }
   },
   "outputs": [
    {
     "data": {
      "text/plain": [
       "(32404859,)"
      ]
     },
     "execution_count": 34,
     "metadata": {},
     "output_type": "execute_result"
    }
   ],
   "source": [
    "df_orders_products_merged['orders_day_of_week'].shape"
   ]
  },
  {
   "cell_type": "code",
   "execution_count": 35,
   "id": "01b7614c",
   "metadata": {
    "ExecuteTime": {
     "end_time": "2022-10-20T23:44:59.176495Z",
     "start_time": "2022-10-20T23:44:58.146949Z"
    }
   },
   "outputs": [],
   "source": [
    "# Results length corresponds to the DataFrame. We can just merge it.\n",
    "# Create a new column in 'df_orders_products_merged' named busiest_days\n",
    "\n",
    "df_orders_products_merged['busiest_days'] = results"
   ]
  },
  {
   "cell_type": "markdown",
   "id": "833a416c",
   "metadata": {},
   "source": [
    "#### 3. Check the values of this new column for accuracy. Note any observations in markdown format."
   ]
  },
  {
   "cell_type": "code",
   "execution_count": 36,
   "id": "3d70d25b",
   "metadata": {
    "ExecuteTime": {
     "end_time": "2022-10-20T23:45:03.281892Z",
     "start_time": "2022-10-20T23:45:02.871815Z"
    }
   },
   "outputs": [
    {
     "data": {
      "text/plain": [
       "Regulary busy days    12916111\n",
       "Busiest days          11864412\n",
       "Slowest days           7624336\n",
       "Name: busiest_days, dtype: int64"
      ]
     },
     "execution_count": 36,
     "metadata": {},
     "output_type": "execute_result"
    }
   ],
   "source": [
    "df_orders_products_merged['busiest_days'].value_counts(dropna = False)"
   ]
  },
  {
   "cell_type": "markdown",
   "id": "8c8bf60c",
   "metadata": {},
   "source": [
    "#### 4. When too many users make Instacart orders at the same time, the app freezes. The senior technical officer at Instacart wants you to identify the busiest hours of the day. Rather than by hour, they want periods of time labeled “Most orders,” “Average orders,” and “Fewest orders.” Create a new column containing these labels called “busiest_period_of_day.”"
   ]
  },
  {
   "cell_type": "code",
   "execution_count": 38,
   "id": "7d335742",
   "metadata": {
    "ExecuteTime": {
     "end_time": "2022-10-20T23:45:08.473440Z",
     "start_time": "2022-10-20T23:45:08.454768Z"
    },
    "scrolled": true
   },
   "outputs": [
    {
     "data": {
      "text/html": [
       "<div>\n",
       "<style scoped>\n",
       "    .dataframe tbody tr th:only-of-type {\n",
       "        vertical-align: middle;\n",
       "    }\n",
       "\n",
       "    .dataframe tbody tr th {\n",
       "        vertical-align: top;\n",
       "    }\n",
       "\n",
       "    .dataframe thead th {\n",
       "        text-align: right;\n",
       "    }\n",
       "</style>\n",
       "<table border=\"1\" class=\"dataframe\">\n",
       "  <thead>\n",
       "    <tr style=\"text-align: right;\">\n",
       "      <th></th>\n",
       "      <th>order_id</th>\n",
       "      <th>customer_id</th>\n",
       "      <th>order_number</th>\n",
       "      <th>orders_day_of_week</th>\n",
       "      <th>order_hour_of_day</th>\n",
       "      <th>days_since_prior_order</th>\n",
       "      <th>product_id</th>\n",
       "      <th>add_to_cart_order</th>\n",
       "      <th>reordered</th>\n",
       "      <th>product_name</th>\n",
       "      <th>aisle_id</th>\n",
       "      <th>department_id</th>\n",
       "      <th>prices</th>\n",
       "      <th>_merge</th>\n",
       "      <th>price_range_loc</th>\n",
       "      <th>busiest_day</th>\n",
       "      <th>busiest_days</th>\n",
       "    </tr>\n",
       "  </thead>\n",
       "  <tbody>\n",
       "    <tr>\n",
       "      <th>0</th>\n",
       "      <td>2539329</td>\n",
       "      <td>1</td>\n",
       "      <td>1</td>\n",
       "      <td>2</td>\n",
       "      <td>8</td>\n",
       "      <td>NaN</td>\n",
       "      <td>196.0</td>\n",
       "      <td>1.0</td>\n",
       "      <td>0.0</td>\n",
       "      <td>Soda</td>\n",
       "      <td>77</td>\n",
       "      <td>7</td>\n",
       "      <td>9.0</td>\n",
       "      <td>both</td>\n",
       "      <td>Mid-range product</td>\n",
       "      <td>Regularly busy</td>\n",
       "      <td>Regulary busy days</td>\n",
       "    </tr>\n",
       "    <tr>\n",
       "      <th>1</th>\n",
       "      <td>2398795</td>\n",
       "      <td>1</td>\n",
       "      <td>2</td>\n",
       "      <td>3</td>\n",
       "      <td>7</td>\n",
       "      <td>15.0</td>\n",
       "      <td>196.0</td>\n",
       "      <td>1.0</td>\n",
       "      <td>1.0</td>\n",
       "      <td>Soda</td>\n",
       "      <td>77</td>\n",
       "      <td>7</td>\n",
       "      <td>9.0</td>\n",
       "      <td>both</td>\n",
       "      <td>Mid-range product</td>\n",
       "      <td>Regularly busy</td>\n",
       "      <td>Slowest days</td>\n",
       "    </tr>\n",
       "    <tr>\n",
       "      <th>2</th>\n",
       "      <td>473747</td>\n",
       "      <td>1</td>\n",
       "      <td>3</td>\n",
       "      <td>3</td>\n",
       "      <td>12</td>\n",
       "      <td>21.0</td>\n",
       "      <td>196.0</td>\n",
       "      <td>1.0</td>\n",
       "      <td>1.0</td>\n",
       "      <td>Soda</td>\n",
       "      <td>77</td>\n",
       "      <td>7</td>\n",
       "      <td>9.0</td>\n",
       "      <td>both</td>\n",
       "      <td>Mid-range product</td>\n",
       "      <td>Regularly busy</td>\n",
       "      <td>Slowest days</td>\n",
       "    </tr>\n",
       "    <tr>\n",
       "      <th>3</th>\n",
       "      <td>2254736</td>\n",
       "      <td>1</td>\n",
       "      <td>4</td>\n",
       "      <td>4</td>\n",
       "      <td>7</td>\n",
       "      <td>29.0</td>\n",
       "      <td>196.0</td>\n",
       "      <td>1.0</td>\n",
       "      <td>1.0</td>\n",
       "      <td>Soda</td>\n",
       "      <td>77</td>\n",
       "      <td>7</td>\n",
       "      <td>9.0</td>\n",
       "      <td>both</td>\n",
       "      <td>Mid-range product</td>\n",
       "      <td>Least busy</td>\n",
       "      <td>Slowest days</td>\n",
       "    </tr>\n",
       "    <tr>\n",
       "      <th>4</th>\n",
       "      <td>431534</td>\n",
       "      <td>1</td>\n",
       "      <td>5</td>\n",
       "      <td>4</td>\n",
       "      <td>15</td>\n",
       "      <td>28.0</td>\n",
       "      <td>196.0</td>\n",
       "      <td>1.0</td>\n",
       "      <td>1.0</td>\n",
       "      <td>Soda</td>\n",
       "      <td>77</td>\n",
       "      <td>7</td>\n",
       "      <td>9.0</td>\n",
       "      <td>both</td>\n",
       "      <td>Mid-range product</td>\n",
       "      <td>Least busy</td>\n",
       "      <td>Slowest days</td>\n",
       "    </tr>\n",
       "  </tbody>\n",
       "</table>\n",
       "</div>"
      ],
      "text/plain": [
       "   order_id  customer_id  order_number  orders_day_of_week  order_hour_of_day  \\\n",
       "0   2539329            1             1                   2                  8   \n",
       "1   2398795            1             2                   3                  7   \n",
       "2    473747            1             3                   3                 12   \n",
       "3   2254736            1             4                   4                  7   \n",
       "4    431534            1             5                   4                 15   \n",
       "\n",
       "   days_since_prior_order  product_id  add_to_cart_order  reordered  \\\n",
       "0                     NaN       196.0                1.0        0.0   \n",
       "1                    15.0       196.0                1.0        1.0   \n",
       "2                    21.0       196.0                1.0        1.0   \n",
       "3                    29.0       196.0                1.0        1.0   \n",
       "4                    28.0       196.0                1.0        1.0   \n",
       "\n",
       "  product_name  aisle_id  department_id  prices _merge    price_range_loc  \\\n",
       "0         Soda        77              7     9.0   both  Mid-range product   \n",
       "1         Soda        77              7     9.0   both  Mid-range product   \n",
       "2         Soda        77              7     9.0   both  Mid-range product   \n",
       "3         Soda        77              7     9.0   both  Mid-range product   \n",
       "4         Soda        77              7     9.0   both  Mid-range product   \n",
       "\n",
       "      busiest_day        busiest_days  \n",
       "0  Regularly busy  Regulary busy days  \n",
       "1  Regularly busy        Slowest days  \n",
       "2  Regularly busy        Slowest days  \n",
       "3      Least busy        Slowest days  \n",
       "4      Least busy        Slowest days  "
      ]
     },
     "execution_count": 38,
     "metadata": {},
     "output_type": "execute_result"
    }
   ],
   "source": [
    "# Reminding of how the data looks like\n",
    "\n",
    "df_orders_products_merged.head(5)"
   ]
  },
  {
   "cell_type": "code",
   "execution_count": 39,
   "id": "10ed8ab6",
   "metadata": {
    "ExecuteTime": {
     "end_time": "2022-10-20T23:45:11.357642Z",
     "start_time": "2022-10-20T23:45:10.987237Z"
    }
   },
   "outputs": [],
   "source": [
    "# Converting frequency into dictionary\n",
    "dict_labeling_counts = df_orders_products_merged['order_hour_of_day'].value_counts(dropna = False).to_dict()"
   ]
  },
  {
   "cell_type": "code",
   "execution_count": 40,
   "id": "072dbe34",
   "metadata": {
    "ExecuteTime": {
     "end_time": "2022-10-20T23:45:12.533814Z",
     "start_time": "2022-10-20T23:45:12.527358Z"
    }
   },
   "outputs": [
    {
     "data": {
      "text/plain": [
       "{10: 2761760,\n",
       " 11: 2736140,\n",
       " 14: 2689136,\n",
       " 15: 2662144,\n",
       " 13: 2660954,\n",
       " 12: 2618532,\n",
       " 16: 2535202,\n",
       " 9: 2454203,\n",
       " 17: 2087654,\n",
       " 8: 1718118,\n",
       " 18: 1636502,\n",
       " 19: 1258305,\n",
       " 20: 976156,\n",
       " 7: 891054,\n",
       " 21: 795637,\n",
       " 22: 634225,\n",
       " 23: 402316,\n",
       " 6: 290493,\n",
       " 0: 218769,\n",
       " 1: 115700,\n",
       " 5: 87961,\n",
       " 2: 69375,\n",
       " 4: 53242,\n",
       " 3: 51281}"
      ]
     },
     "execution_count": 40,
     "metadata": {},
     "output_type": "execute_result"
    }
   ],
   "source": [
    "# Checking frequency dictionary\n",
    "dict_labeling_counts"
   ]
  },
  {
   "cell_type": "code",
   "execution_count": 41,
   "id": "40579d25",
   "metadata": {
    "ExecuteTime": {
     "end_time": "2022-10-20T23:45:16.278558Z",
     "start_time": "2022-10-20T23:45:16.124032Z"
    }
   },
   "outputs": [],
   "source": [
    "# Grouping into Most orders, Average orders and Fewest orders, I decided to use percentile as criteria.\n",
    "\n",
    "list_quantile = list(df_orders_products_merged['order_hour_of_day'].value_counts(dropna = False).quantile([0.75, 0.5, 0.25]))"
   ]
  },
  {
   "cell_type": "code",
   "execution_count": 42,
   "id": "6e3806ba",
   "metadata": {
    "ExecuteTime": {
     "end_time": "2022-10-20T23:45:18.116051Z",
     "start_time": "2022-10-20T23:45:18.109688Z"
    }
   },
   "outputs": [
    {
     "data": {
      "text/plain": [
       "[2556034.5, 1117230.5, 272562.0]"
      ]
     },
     "execution_count": 42,
     "metadata": {},
     "output_type": "execute_result"
    }
   ],
   "source": [
    "list_quantile"
   ]
  },
  {
   "cell_type": "code",
   "execution_count": 43,
   "id": "c55fceee",
   "metadata": {
    "ExecuteTime": {
     "end_time": "2022-10-20T23:45:19.559842Z",
     "start_time": "2022-10-20T23:45:19.555940Z"
    }
   },
   "outputs": [],
   "source": [
    "results_labeling_hour = []"
   ]
  },
  {
   "cell_type": "code",
   "execution_count": 44,
   "id": "8a438330",
   "metadata": {
    "ExecuteTime": {
     "end_time": "2022-10-20T23:46:44.553874Z",
     "start_time": "2022-10-20T23:45:20.963467Z"
    }
   },
   "outputs": [],
   "source": [
    "# I used percentiles and nested loop here for grouping automation, \n",
    "# instead of hardcoding it using value 'order_hour_of_day' in the If-Statement.\n",
    "\n",
    "for value in df_orders_products_merged['order_hour_of_day']:\n",
    "    for key, val in dict_labeling_counts.items():\n",
    "        if value == key:\n",
    "            if val < list_quantile[2]:\n",
    "                results_labeling_hour.append('Fewest orders')\n",
    "            elif val >= list_quantile[2] and val < list_quantile[1]:\n",
    "                results_labeling_hour.append('Average orders')\n",
    "            elif val >= list_quantile[1]:\n",
    "                results_labeling_hour.append('Most orders')"
   ]
  },
  {
   "cell_type": "code",
   "execution_count": 45,
   "id": "4f66e011",
   "metadata": {
    "ExecuteTime": {
     "end_time": "2022-10-20T23:46:44.559985Z",
     "start_time": "2022-10-20T23:46:44.556474Z"
    }
   },
   "outputs": [],
   "source": [
    "# Function to check the list before merging it with the DataFrame\n",
    "def labeling_result (x):\n",
    "    most_orders = x.count('Most orders')\n",
    "    average_orders = x.count('Average orders')\n",
    "    fewest_orders = x.count('Fewest orders')\n",
    "    \n",
    "    print(f'Most orders: {most_orders}')\n",
    "    print(f'Average orders: {average_orders}')\n",
    "    print(f'Fewest orders: {fewest_orders}')\n",
    "    print(f'Total: {most_orders + average_orders + fewest_orders}')"
   ]
  },
  {
   "cell_type": "code",
   "execution_count": 47,
   "id": "f9099af2",
   "metadata": {
    "ExecuteTime": {
     "end_time": "2022-10-20T23:46:47.000036Z",
     "start_time": "2022-10-20T23:46:45.791546Z"
    }
   },
   "outputs": [
    {
     "name": "stdout",
     "output_type": "stream",
     "text": [
      "Most orders: 27818650\n",
      "Average orders: 3989881\n",
      "Fewest orders: 596328\n",
      "Total: 32404859\n"
     ]
    }
   ],
   "source": [
    "# Checking the grouping process through nested loop.\n",
    "labeling_result(results_labeling_hour)"
   ]
  },
  {
   "cell_type": "code",
   "execution_count": 48,
   "id": "0b8a17ad",
   "metadata": {
    "ExecuteTime": {
     "end_time": "2022-10-20T23:46:47.005603Z",
     "start_time": "2022-10-20T23:46:47.001996Z"
    }
   },
   "outputs": [
    {
     "data": {
      "text/plain": [
       "(32404859,)"
      ]
     },
     "execution_count": 48,
     "metadata": {},
     "output_type": "execute_result"
    }
   ],
   "source": [
    "df_orders_products_merged['order_hour_of_day'].shape"
   ]
  },
  {
   "cell_type": "markdown",
   "id": "3dbdb779",
   "metadata": {},
   "source": [
    "#### Since both length corresponds to each other, we can integrate it into 'df_orders_products_merged'."
   ]
  },
  {
   "cell_type": "code",
   "execution_count": 49,
   "id": "0f34a721",
   "metadata": {
    "ExecuteTime": {
     "end_time": "2022-10-20T23:46:48.030170Z",
     "start_time": "2022-10-20T23:46:47.006982Z"
    }
   },
   "outputs": [],
   "source": [
    "df_orders_products_merged['busiest_period_of_day'] = results_labeling_hour"
   ]
  },
  {
   "cell_type": "markdown",
   "id": "05ab9bb9",
   "metadata": {},
   "source": [
    "#### 5. Print the frequency for this new column."
   ]
  },
  {
   "cell_type": "code",
   "execution_count": 50,
   "id": "4f4edeaa",
   "metadata": {
    "ExecuteTime": {
     "end_time": "2022-10-20T23:46:48.432189Z",
     "start_time": "2022-10-20T23:46:48.032049Z"
    }
   },
   "outputs": [
    {
     "data": {
      "text/plain": [
       "Most orders       27818650\n",
       "Average orders     3989881\n",
       "Fewest orders       596328\n",
       "Name: busiest_period_of_day, dtype: int64"
      ]
     },
     "execution_count": 50,
     "metadata": {},
     "output_type": "execute_result"
    }
   ],
   "source": [
    "df_orders_products_merged['busiest_period_of_day'].value_counts(dropna = False)"
   ]
  },
  {
   "cell_type": "markdown",
   "id": "aad9e97b",
   "metadata": {},
   "source": [
    "#### 6. Ensure your notebook is clean and structured and that your code is well commented\n",
    "#### 7. Export your dataframe as a pickle file (since you added new columns) and store it correctly in your “Prepared Data” folder."
   ]
  },
  {
   "cell_type": "code",
   "execution_count": 51,
   "id": "b8bd8d1b",
   "metadata": {
    "ExecuteTime": {
     "end_time": "2022-10-20T23:46:58.628636Z",
     "start_time": "2022-10-20T23:46:48.434609Z"
    }
   },
   "outputs": [],
   "source": [
    "# Export to PKL\n",
    "df_orders_products_merged.to_pickle(os.path.join(path, 'Prepared Data', 'orders_products_merged_update.pkl'))"
   ]
  },
  {
   "cell_type": "markdown",
   "id": "a6cbd000",
   "metadata": {},
   "source": [
    "## 4.7 Second Solution "
   ]
  },
  {
   "cell_type": "code",
   "execution_count": 52,
   "id": "6e89f556",
   "metadata": {
    "ExecuteTime": {
     "end_time": "2022-10-20T23:47:17.440007Z",
     "start_time": "2022-10-20T23:47:10.185479Z"
    }
   },
   "outputs": [],
   "source": [
    "#2: creating new variable 'busiest days\n",
    "result2 = []\n",
    "    \n",
    "for value in df_orders_products_merged['orders_day_of_week']:\n",
    "    if value in [0,1]:\n",
    "        result2.append(\"Busiest days\"),\n",
    "    elif value in [3,4]:\n",
    "        result2.append(\"Slowest days\"),\n",
    "    else:result2.append(\"Regularly busy\")"
   ]
  },
  {
   "cell_type": "code",
   "execution_count": 53,
   "id": "208549ef",
   "metadata": {
    "ExecuteTime": {
     "end_time": "2022-10-20T23:47:49.135079Z",
     "start_time": "2022-10-20T23:47:49.127344Z"
    }
   },
   "outputs": [
    {
     "data": {
      "text/plain": [
       "32404859"
      ]
     },
     "execution_count": 53,
     "metadata": {},
     "output_type": "execute_result"
    }
   ],
   "source": [
    "len(result2)"
   ]
  },
  {
   "cell_type": "code",
   "execution_count": 54,
   "id": "c74afbcd",
   "metadata": {
    "ExecuteTime": {
     "end_time": "2022-10-20T23:48:07.739211Z",
     "start_time": "2022-10-20T23:48:05.441600Z"
    }
   },
   "outputs": [
    {
     "data": {
      "text/plain": [
       "Regularly busy    12916111\n",
       "Busiest days      11864412\n",
       "Slowest days       7624336\n",
       "Name: busiest_days, dtype: int64"
      ]
     },
     "execution_count": 54,
     "metadata": {},
     "output_type": "execute_result"
    }
   ],
   "source": [
    "df_orders_products_merged['busiest_days'] = result2\n",
    "df_orders_products_merged['busiest_days'].value_counts()"
   ]
  },
  {
   "cell_type": "markdown",
   "id": "5975f16a",
   "metadata": {},
   "source": [
    "##### The total number of busiest days the sum of 0 & 1 (11864412) and slowest day (7624336)"
   ]
  },
  {
   "cell_type": "code",
   "execution_count": 56,
   "id": "291b4583",
   "metadata": {
    "ExecuteTime": {
     "end_time": "2022-10-20T23:49:13.548022Z",
     "start_time": "2022-10-20T23:49:13.169213Z"
    }
   },
   "outputs": [
    {
     "data": {
      "text/plain": [
       "10    2761760\n",
       "11    2736140\n",
       "14    2689136\n",
       "15    2662144\n",
       "13    2660954\n",
       "12    2618532\n",
       "16    2535202\n",
       "9     2454203\n",
       "17    2087654\n",
       "8     1718118\n",
       "18    1636502\n",
       "19    1258305\n",
       "20     976156\n",
       "7      891054\n",
       "21     795637\n",
       "22     634225\n",
       "23     402316\n",
       "6      290493\n",
       "0      218769\n",
       "1      115700\n",
       "5       87961\n",
       "2       69375\n",
       "4       53242\n",
       "3       51281\n",
       "Name: order_hour_of_day, dtype: int64"
      ]
     },
     "execution_count": 56,
     "metadata": {},
     "output_type": "execute_result"
    }
   ],
   "source": [
    "# Step 4: determine the busiest hours of the day\n",
    "df_time = df_orders_products_merged['order_hour_of_day'].value_counts()\n",
    "df_time"
   ]
  },
  {
   "cell_type": "code",
   "execution_count": 57,
   "id": "d251ecbb",
   "metadata": {
    "ExecuteTime": {
     "end_time": "2022-10-20T23:49:45.471922Z",
     "start_time": "2022-10-20T23:49:43.885883Z"
    }
   },
   "outputs": [
    {
     "data": {
      "text/plain": [
       "[<matplotlib.lines.Line2D at 0x7f8c5c30fac0>]"
      ]
     },
     "execution_count": 57,
     "metadata": {},
     "output_type": "execute_result"
    },
    {
     "data": {
      "image/png": "[encoded data removed]",
      "text/plain": [
       "<Figure size 432x288 with 1 Axes>"
      ]
     },
     "metadata": {
      "needs_background": "light"
     },
     "output_type": "display_data"
    }
   ],
   "source": [
    "time = list(df_time.index)\n",
    "frequency = list(df_time)\n",
    "import matplotlib.pyplot as plt\n",
    "plt.plot(time, frequency, 'o')"
   ]
  },
  {
   "cell_type": "markdown",
   "id": "a7c304ba",
   "metadata": {},
   "source": [
    "#### The graph suggest 9 to 16 - 'Most orders', 0 to 6 -'Fewest orders'"
   ]
  },
  {
   "cell_type": "code",
   "execution_count": 58,
   "id": "955c3308",
   "metadata": {
    "ExecuteTime": {
     "end_time": "2022-10-20T23:50:31.579438Z",
     "start_time": "2022-10-20T23:50:25.308742Z"
    }
   },
   "outputs": [],
   "source": [
    "# define variable busiest_period_of_day\n",
    "\n",
    "result3 = []\n",
    "for value in df_orders_products_merged['order_hour_of_day']:\n",
    "    if value >= 9 and value <= 16:\n",
    "     result3.append(\"Most orders\")\n",
    "    elif value <= 6:\n",
    "     result3.append(\"Fewest orders\")\n",
    "    else:\n",
    "     result3.append(\"Average orders\")"
   ]
  },
  {
   "cell_type": "markdown",
   "id": "259861b3",
   "metadata": {},
   "source": [
    "#### Print the frequency for this new column"
   ]
  },
  {
   "cell_type": "code",
   "execution_count": 59,
   "id": "c076c428",
   "metadata": {
    "ExecuteTime": {
     "end_time": "2022-10-20T23:50:50.814038Z",
     "start_time": "2022-10-20T23:50:48.561812Z"
    },
    "scrolled": true
   },
   "outputs": [
    {
     "data": {
      "text/plain": [
       "Most orders       21118071\n",
       "Average orders    10399967\n",
       "Fewest orders       886821\n",
       "Name: busiest_period_of_day, dtype: int64"
      ]
     },
     "execution_count": 59,
     "metadata": {},
     "output_type": "execute_result"
    }
   ],
   "source": [
    "df_orders_products_merged['busiest_period_of_day'] = result3\n",
    "df_orders_products_merged['busiest_period_of_day'].value_counts()"
   ]
  },
  {
   "cell_type": "markdown",
   "id": "1a442a78",
   "metadata": {},
   "source": [
    "#### 6. Ensure your notebook is clean and structured and that your code is well commented\n",
    "#### 7. Export your dataframe as a pickle file (since you added new columns) and store it correctly in your “Prepared Data” folder."
   ]
  },
  {
   "cell_type": "code",
   "execution_count": 60,
   "id": "23fe8f3b",
   "metadata": {
    "ExecuteTime": {
     "end_time": "2022-10-20T23:54:06.420453Z",
     "start_time": "2022-10-20T23:53:57.848468Z"
    }
   },
   "outputs": [],
   "source": [
    "# Export dataframe as a pickle file\n",
    "df_orders_products_merged.to_pickle(os.path.join(path, 'Prepared Data', 'orders_products_merged_v2.pkl'))"
   ]
  }
 ],
 "metadata": {
  "kernelspec": {
   "display_name": "Python 3 (ipykernel)",
   "language": "python",
   "name": "python3"
  },
  "language_info": {
   "codemirror_mode": {
    "name": "ipython",
    "version": 3
   },
   "file_extension": ".py",
   "mimetype": "text/x-python",
   "name": "python",
   "nbconvert_exporter": "python",
   "pygments_lexer": "ipython3",
   "version": "3.9.12"
  }
 },
 "nbformat": 4,
 "nbformat_minor": 5
}

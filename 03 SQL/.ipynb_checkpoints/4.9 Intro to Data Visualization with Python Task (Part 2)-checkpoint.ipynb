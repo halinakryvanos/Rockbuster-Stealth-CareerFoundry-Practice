{
 "cells": [
  {
   "cell_type": "markdown",
   "id": "c566d6a3",
   "metadata": {},
   "source": [
    "### This notebook contains answers for Task 4.9 Part 2"
   ]
  },
  {
   "cell_type": "code",
   "execution_count": 1,
   "id": "553bd3e3",
   "metadata": {
    "ExecuteTime": {
     "end_time": "2022-11-25T13:54:42.623640Z",
     "start_time": "2022-11-25T13:54:38.613175Z"
    }
   },
   "outputs": [],
   "source": [
    "# Import libraries\n",
    "import pandas as pd\n",
    "import numpy as np\n",
    "import os\n",
    "import matplotlib.pyplot as plt\n",
    "import seaborn as sns\n",
    "import scipy"
   ]
  },
  {
   "cell_type": "code",
   "execution_count": 2,
   "id": "af6cb77e",
   "metadata": {
    "ExecuteTime": {
     "end_time": "2022-11-25T13:54:42.630806Z",
     "start_time": "2022-11-25T13:54:42.627392Z"
    }
   },
   "outputs": [],
   "source": [
    "# create path\n",
    "path = r'/Users/macbook/Library/CloudStorage/OneDrive-Personal/Data Analisys/Instacart'"
   ]
  },
  {
   "cell_type": "code",
   "execution_count": 3,
   "id": "062d301a",
   "metadata": {
    "ExecuteTime": {
     "end_time": "2022-11-25T13:55:07.566495Z",
     "start_time": "2022-11-25T13:54:42.633405Z"
    }
   },
   "outputs": [],
   "source": [
    "# import orders_products_combined_4.9.pkl\n",
    "ords_prods_merge = pd.read_pickle(os.path.join(path, '02 Data', 'Prepared Data', 'orders_products_combined_4.9_1.pkl'))"
   ]
  },
  {
   "cell_type": "code",
   "execution_count": 4,
   "id": "2b2dbe0c",
   "metadata": {
    "ExecuteTime": {
     "end_time": "2022-11-25T13:55:07.609490Z",
     "start_time": "2022-11-25T13:55:07.575054Z"
    },
    "scrolled": true
   },
   "outputs": [
    {
     "data": {
      "text/html": [
       "<div>\n",
       "<style scoped>\n",
       "    .dataframe tbody tr th:only-of-type {\n",
       "        vertical-align: middle;\n",
       "    }\n",
       "\n",
       "    .dataframe tbody tr th {\n",
       "        vertical-align: top;\n",
       "    }\n",
       "\n",
       "    .dataframe thead th {\n",
       "        text-align: right;\n",
       "    }\n",
       "</style>\n",
       "<table border=\"1\" class=\"dataframe\">\n",
       "  <thead>\n",
       "    <tr style=\"text-align: right;\">\n",
       "      <th></th>\n",
       "      <th>order_id</th>\n",
       "      <th>user_id</th>\n",
       "      <th>eval_set</th>\n",
       "      <th>order_number</th>\n",
       "      <th>orders_day_of_week</th>\n",
       "      <th>order_hour_of_day</th>\n",
       "      <th>days_since_prior_order</th>\n",
       "      <th>product_id</th>\n",
       "      <th>add_to_cart_order</th>\n",
       "      <th>reordered</th>\n",
       "      <th>...</th>\n",
       "      <th>frequency_flag</th>\n",
       "      <th>first_name</th>\n",
       "      <th>surnam</th>\n",
       "      <th>gender</th>\n",
       "      <th>state</th>\n",
       "      <th>age</th>\n",
       "      <th>date_joined</th>\n",
       "      <th>no_of_dependents</th>\n",
       "      <th>marital_status</th>\n",
       "      <th>income</th>\n",
       "    </tr>\n",
       "  </thead>\n",
       "  <tbody>\n",
       "    <tr>\n",
       "      <th>0</th>\n",
       "      <td>2539329</td>\n",
       "      <td>1</td>\n",
       "      <td>prior</td>\n",
       "      <td>1</td>\n",
       "      <td>2</td>\n",
       "      <td>8</td>\n",
       "      <td>NaN</td>\n",
       "      <td>196</td>\n",
       "      <td>1</td>\n",
       "      <td>0</td>\n",
       "      <td>...</td>\n",
       "      <td>Non-frequent customer</td>\n",
       "      <td>Linda</td>\n",
       "      <td>Nguyen</td>\n",
       "      <td>Female</td>\n",
       "      <td>Alabama</td>\n",
       "      <td>31</td>\n",
       "      <td>2/17/2019</td>\n",
       "      <td>3</td>\n",
       "      <td>married</td>\n",
       "      <td>40423</td>\n",
       "    </tr>\n",
       "    <tr>\n",
       "      <th>1</th>\n",
       "      <td>2398795</td>\n",
       "      <td>1</td>\n",
       "      <td>prior</td>\n",
       "      <td>2</td>\n",
       "      <td>3</td>\n",
       "      <td>7</td>\n",
       "      <td>15.0</td>\n",
       "      <td>196</td>\n",
       "      <td>1</td>\n",
       "      <td>1</td>\n",
       "      <td>...</td>\n",
       "      <td>Non-frequent customer</td>\n",
       "      <td>Linda</td>\n",
       "      <td>Nguyen</td>\n",
       "      <td>Female</td>\n",
       "      <td>Alabama</td>\n",
       "      <td>31</td>\n",
       "      <td>2/17/2019</td>\n",
       "      <td>3</td>\n",
       "      <td>married</td>\n",
       "      <td>40423</td>\n",
       "    </tr>\n",
       "    <tr>\n",
       "      <th>2</th>\n",
       "      <td>473747</td>\n",
       "      <td>1</td>\n",
       "      <td>prior</td>\n",
       "      <td>3</td>\n",
       "      <td>3</td>\n",
       "      <td>12</td>\n",
       "      <td>21.0</td>\n",
       "      <td>196</td>\n",
       "      <td>1</td>\n",
       "      <td>1</td>\n",
       "      <td>...</td>\n",
       "      <td>Non-frequent customer</td>\n",
       "      <td>Linda</td>\n",
       "      <td>Nguyen</td>\n",
       "      <td>Female</td>\n",
       "      <td>Alabama</td>\n",
       "      <td>31</td>\n",
       "      <td>2/17/2019</td>\n",
       "      <td>3</td>\n",
       "      <td>married</td>\n",
       "      <td>40423</td>\n",
       "    </tr>\n",
       "    <tr>\n",
       "      <th>3</th>\n",
       "      <td>2254736</td>\n",
       "      <td>1</td>\n",
       "      <td>prior</td>\n",
       "      <td>4</td>\n",
       "      <td>4</td>\n",
       "      <td>7</td>\n",
       "      <td>29.0</td>\n",
       "      <td>196</td>\n",
       "      <td>1</td>\n",
       "      <td>1</td>\n",
       "      <td>...</td>\n",
       "      <td>Non-frequent customer</td>\n",
       "      <td>Linda</td>\n",
       "      <td>Nguyen</td>\n",
       "      <td>Female</td>\n",
       "      <td>Alabama</td>\n",
       "      <td>31</td>\n",
       "      <td>2/17/2019</td>\n",
       "      <td>3</td>\n",
       "      <td>married</td>\n",
       "      <td>40423</td>\n",
       "    </tr>\n",
       "    <tr>\n",
       "      <th>4</th>\n",
       "      <td>431534</td>\n",
       "      <td>1</td>\n",
       "      <td>prior</td>\n",
       "      <td>5</td>\n",
       "      <td>4</td>\n",
       "      <td>15</td>\n",
       "      <td>28.0</td>\n",
       "      <td>196</td>\n",
       "      <td>1</td>\n",
       "      <td>1</td>\n",
       "      <td>...</td>\n",
       "      <td>Non-frequent customer</td>\n",
       "      <td>Linda</td>\n",
       "      <td>Nguyen</td>\n",
       "      <td>Female</td>\n",
       "      <td>Alabama</td>\n",
       "      <td>31</td>\n",
       "      <td>2/17/2019</td>\n",
       "      <td>3</td>\n",
       "      <td>married</td>\n",
       "      <td>40423</td>\n",
       "    </tr>\n",
       "  </tbody>\n",
       "</table>\n",
       "<p>5 rows × 34 columns</p>\n",
       "</div>"
      ],
      "text/plain": [
       "   order_id  user_id eval_set  order_number  orders_day_of_week  \\\n",
       "0   2539329        1    prior             1                   2   \n",
       "1   2398795        1    prior             2                   3   \n",
       "2    473747        1    prior             3                   3   \n",
       "3   2254736        1    prior             4                   4   \n",
       "4    431534        1    prior             5                   4   \n",
       "\n",
       "   order_hour_of_day  days_since_prior_order  product_id  add_to_cart_order  \\\n",
       "0                  8                     NaN         196                  1   \n",
       "1                  7                    15.0         196                  1   \n",
       "2                 12                    21.0         196                  1   \n",
       "3                  7                    29.0         196                  1   \n",
       "4                 15                    28.0         196                  1   \n",
       "\n",
       "   reordered  ...         frequency_flag  first_name  surnam  gender    state  \\\n",
       "0          0  ...  Non-frequent customer       Linda  Nguyen  Female  Alabama   \n",
       "1          1  ...  Non-frequent customer       Linda  Nguyen  Female  Alabama   \n",
       "2          1  ...  Non-frequent customer       Linda  Nguyen  Female  Alabama   \n",
       "3          1  ...  Non-frequent customer       Linda  Nguyen  Female  Alabama   \n",
       "4          1  ...  Non-frequent customer       Linda  Nguyen  Female  Alabama   \n",
       "\n",
       "  age date_joined no_of_dependents marital_status  income  \n",
       "0  31   2/17/2019                3        married   40423  \n",
       "1  31   2/17/2019                3        married   40423  \n",
       "2  31   2/17/2019                3        married   40423  \n",
       "3  31   2/17/2019                3        married   40423  \n",
       "4  31   2/17/2019                3        married   40423  \n",
       "\n",
       "[5 rows x 34 columns]"
      ]
     },
     "execution_count": 4,
     "metadata": {},
     "output_type": "execute_result"
    }
   ],
   "source": [
    "ords_prods_merge.head()"
   ]
  },
  {
   "cell_type": "code",
   "execution_count": 5,
   "id": "3458fc16",
   "metadata": {
    "ExecuteTime": {
     "end_time": "2022-11-25T13:55:07.617401Z",
     "start_time": "2022-11-25T13:55:07.612440Z"
    }
   },
   "outputs": [
    {
     "data": {
      "text/plain": [
       "(32404859, 34)"
      ]
     },
     "execution_count": 5,
     "metadata": {},
     "output_type": "execute_result"
    }
   ],
   "source": [
    "ords_prods_merge.shape"
   ]
  },
  {
   "cell_type": "markdown",
   "id": "bdcbb286",
   "metadata": {},
   "source": [
    "### Analysis "
   ]
  },
  {
   "cell_type": "code",
   "execution_count": 6,
   "id": "4bc5edc7",
   "metadata": {
    "ExecuteTime": {
     "end_time": "2022-11-25T13:55:08.253341Z",
     "start_time": "2022-11-25T13:55:07.619090Z"
    }
   },
   "outputs": [
    {
     "data": {
      "text/plain": [
       "Text(0, 0.5, 'Frequancy')"
      ]
     },
     "execution_count": 6,
     "metadata": {},
     "output_type": "execute_result"
    },
    {
     "data": {
      "image/png": "[encoded data removed]",
      "text/plain": [
       "<Figure size 432x288 with 1 Axes>"
      ]
     },
     "metadata": {
      "needs_background": "light"
     },
     "output_type": "display_data"
    }
   ],
   "source": [
    "# Create a bar chart sorted on index (0-6)\n",
    "bar_orders_day_of_week = ords_prods_merge['orders_day_of_week'].value_counts().sort_index().plot.bar(color = 'green', fontsize=10)\n",
    "plt.title('Distributions of Orders by Day of Week', fontsize=13)\n",
    "plt.xlabel('Days', fontsize=10)\n",
    "plt.ylabel('Frequancy', fontsize=10)"
   ]
  },
  {
   "cell_type": "code",
   "execution_count": 7,
   "id": "cdabafb1",
   "metadata": {
    "ExecuteTime": {
     "end_time": "2022-11-25T13:55:10.417730Z",
     "start_time": "2022-11-25T13:55:08.255139Z"
    },
    "scrolled": false
   },
   "outputs": [
    {
     "data": {
      "image/png": "[encoded data removed]",
      "text/plain": [
       "<Figure size 432x288 with 1 Axes>"
      ]
     },
     "metadata": {
      "needs_background": "light"
     },
     "output_type": "display_data"
    }
   ],
   "source": [
    "# creating a histogram of income\n",
    "hist_income = ords_prods_merge['income'].plot.hist(bins = 50, color = 'green')"
   ]
  },
  {
   "cell_type": "code",
   "execution_count": 8,
   "id": "bae34022",
   "metadata": {
    "ExecuteTime": {
     "end_time": "2022-11-25T13:55:13.799993Z",
     "start_time": "2022-11-25T13:55:10.419440Z"
    },
    "scrolled": false
   },
   "outputs": [
    {
     "data": {
      "text/plain": [
       "Text(0, 0.5, 'Frequancy')"
      ]
     },
     "execution_count": 8,
     "metadata": {},
     "output_type": "execute_result"
    },
    {
     "data": {
      "image/png": "[encoded data removed]",
      "text/plain": [
       "<Figure size 432x288 with 1 Axes>"
      ]
     },
     "metadata": {
      "needs_background": "light"
     },
     "output_type": "display_data"
    }
   ],
   "source": [
    "# creating a histogram of prices\n",
    "hist_prices = ords_prods_merge['prices'].plot.hist(bins = 50, color = 'steelblue')\n",
    "plt.xlabel('Prises', fontsize=10)\n",
    "plt.ylabel('Frequancy', fontsize=10)"
   ]
  },
  {
   "cell_type": "code",
   "execution_count": 9,
   "id": "0b032d37",
   "metadata": {
    "ExecuteTime": {
     "end_time": "2022-11-25T13:55:41.978927Z",
     "start_time": "2022-11-25T13:55:13.802120Z"
    },
    "scrolled": true
   },
   "outputs": [
    {
     "data": {
      "image/png": "[encoded data removed]",
      "text/plain": [
       "<Figure size 432x288 with 1 Axes>"
      ]
     },
     "metadata": {
      "needs_background": "light"
     },
     "output_type": "display_data"
    }
   ],
   "source": [
    "# scatterplot\n",
    "splot_prices = sns.scatterplot(x = 'prices', y = 'prices', data = ords_prods_merge, color = 'green')"
   ]
  },
  {
   "cell_type": "code",
   "execution_count": 10,
   "id": "38e71748",
   "metadata": {
    "ExecuteTime": {
     "end_time": "2022-11-25T13:55:41.986037Z",
     "start_time": "2022-11-25T13:55:41.983687Z"
    }
   },
   "outputs": [],
   "source": [
    "# Line chart using subset"
   ]
  },
  {
   "cell_type": "code",
   "execution_count": 11,
   "id": "b98d0134",
   "metadata": {
    "ExecuteTime": {
     "end_time": "2022-11-25T13:55:42.320133Z",
     "start_time": "2022-11-25T13:55:41.988218Z"
    }
   },
   "outputs": [],
   "source": [
    "# Create a list holding true/false values to test np.random.rand() <=0.7\n",
    "np.random.seed(4)\n",
    "dev = np.random.rand(len(ords_prods_merge)) <= 0.7"
   ]
  },
  {
   "cell_type": "code",
   "execution_count": 12,
   "id": "f1805812",
   "metadata": {
    "ExecuteTime": {
     "end_time": "2022-11-25T13:55:42.327359Z",
     "start_time": "2022-11-25T13:55:42.322732Z"
    }
   },
   "outputs": [
    {
     "data": {
      "text/plain": [
       "array([False,  True, False, ...,  True,  True,  True])"
      ]
     },
     "execution_count": 12,
     "metadata": {},
     "output_type": "execute_result"
    }
   ],
   "source": [
    "# dev is the boolean list of true/false\n",
    "dev"
   ]
  },
  {
   "cell_type": "code",
   "execution_count": 13,
   "id": "66fbef3a",
   "metadata": {
    "ExecuteTime": {
     "end_time": "2022-11-25T13:56:06.647295Z",
     "start_time": "2022-11-25T13:55:42.329580Z"
    }
   },
   "outputs": [],
   "source": [
    "# Store 70% of the sample in data frame big\n",
    "big = ords_prods_merge[dev]"
   ]
  },
  {
   "cell_type": "code",
   "execution_count": 14,
   "id": "13231404",
   "metadata": {
    "ExecuteTime": {
     "end_time": "2022-11-25T13:56:25.664167Z",
     "start_time": "2022-11-25T13:56:06.654130Z"
    }
   },
   "outputs": [],
   "source": [
    "# Store 30% of the sample in data frame small\n",
    "small = ords_prods_merge[~dev]"
   ]
  },
  {
   "cell_type": "code",
   "execution_count": 15,
   "id": "9c3bff89",
   "metadata": {
    "ExecuteTime": {
     "end_time": "2022-11-25T13:56:25.711909Z",
     "start_time": "2022-11-25T13:56:25.677046Z"
    }
   },
   "outputs": [
    {
     "data": {
      "text/plain": [
       "32404859"
      ]
     },
     "execution_count": 15,
     "metadata": {},
     "output_type": "execute_result"
    }
   ],
   "source": [
    "# Checking length is correct\n",
    "len(big)+len(small)"
   ]
  },
  {
   "cell_type": "code",
   "execution_count": 16,
   "id": "d750d8b0",
   "metadata": {
    "ExecuteTime": {
     "end_time": "2022-11-25T13:56:26.281736Z",
     "start_time": "2022-11-25T13:56:25.716912Z"
    }
   },
   "outputs": [],
   "source": [
    "# Creating new data frame with just the columns needed for the line chart\n",
    "df_ords_prods_merge_small = small[['orders_day_of_week','prices']]"
   ]
  },
  {
   "cell_type": "code",
   "execution_count": 17,
   "id": "dfd64737",
   "metadata": {
    "ExecuteTime": {
     "end_time": "2022-11-25T13:56:26.343680Z",
     "start_time": "2022-11-25T13:56:26.287605Z"
    },
    "scrolled": true
   },
   "outputs": [
    {
     "data": {
      "text/html": [
       "<div>\n",
       "<style scoped>\n",
       "    .dataframe tbody tr th:only-of-type {\n",
       "        vertical-align: middle;\n",
       "    }\n",
       "\n",
       "    .dataframe tbody tr th {\n",
       "        vertical-align: top;\n",
       "    }\n",
       "\n",
       "    .dataframe thead th {\n",
       "        text-align: right;\n",
       "    }\n",
       "</style>\n",
       "<table border=\"1\" class=\"dataframe\">\n",
       "  <thead>\n",
       "    <tr style=\"text-align: right;\">\n",
       "      <th></th>\n",
       "      <th>orders_day_of_week</th>\n",
       "      <th>prices</th>\n",
       "    </tr>\n",
       "  </thead>\n",
       "  <tbody>\n",
       "    <tr>\n",
       "      <th>0</th>\n",
       "      <td>2</td>\n",
       "      <td>9.0</td>\n",
       "    </tr>\n",
       "    <tr>\n",
       "      <th>2</th>\n",
       "      <td>3</td>\n",
       "      <td>9.0</td>\n",
       "    </tr>\n",
       "    <tr>\n",
       "      <th>3</th>\n",
       "      <td>4</td>\n",
       "      <td>9.0</td>\n",
       "    </tr>\n",
       "    <tr>\n",
       "      <th>6</th>\n",
       "      <td>1</td>\n",
       "      <td>9.0</td>\n",
       "    </tr>\n",
       "    <tr>\n",
       "      <th>10</th>\n",
       "      <td>2</td>\n",
       "      <td>12.5</td>\n",
       "    </tr>\n",
       "    <tr>\n",
       "      <th>...</th>\n",
       "      <td>...</td>\n",
       "      <td>...</td>\n",
       "    </tr>\n",
       "    <tr>\n",
       "      <th>32404841</th>\n",
       "      <td>2</td>\n",
       "      <td>10.7</td>\n",
       "    </tr>\n",
       "    <tr>\n",
       "      <th>32404842</th>\n",
       "      <td>6</td>\n",
       "      <td>10.7</td>\n",
       "    </tr>\n",
       "    <tr>\n",
       "      <th>32404843</th>\n",
       "      <td>0</td>\n",
       "      <td>10.7</td>\n",
       "    </tr>\n",
       "    <tr>\n",
       "      <th>32404849</th>\n",
       "      <td>1</td>\n",
       "      <td>10.7</td>\n",
       "    </tr>\n",
       "    <tr>\n",
       "      <th>32404850</th>\n",
       "      <td>4</td>\n",
       "      <td>10.7</td>\n",
       "    </tr>\n",
       "  </tbody>\n",
       "</table>\n",
       "<p>9721098 rows × 2 columns</p>\n",
       "</div>"
      ],
      "text/plain": [
       "          orders_day_of_week  prices\n",
       "0                          2     9.0\n",
       "2                          3     9.0\n",
       "3                          4     9.0\n",
       "6                          1     9.0\n",
       "10                         2    12.5\n",
       "...                      ...     ...\n",
       "32404841                   2    10.7\n",
       "32404842                   6    10.7\n",
       "32404843                   0    10.7\n",
       "32404849                   1    10.7\n",
       "32404850                   4    10.7\n",
       "\n",
       "[9721098 rows x 2 columns]"
      ]
     },
     "execution_count": 17,
     "metadata": {},
     "output_type": "execute_result"
    }
   ],
   "source": [
    "df_ords_prods_merge_small"
   ]
  },
  {
   "cell_type": "code",
   "execution_count": 18,
   "id": "16791551",
   "metadata": {
    "ExecuteTime": {
     "end_time": "2022-11-25T14:00:20.169201Z",
     "start_time": "2022-11-25T13:56:26.346989Z"
    }
   },
   "outputs": [
    {
     "data": {
      "image/png": "[encoded data removed]",
      "text/plain": [
       "<Figure size 432x288 with 1 Axes>"
      ]
     },
     "metadata": {
      "needs_background": "light"
     },
     "output_type": "display_data"
    }
   ],
   "source": [
    "# Create line chart on 30% of df sample\n",
    "line = sns.lineplot(data = df_ords_prods_merge_small, x = 'orders_day_of_week',y = 'prices', color = 'green')"
   ]
  },
  {
   "cell_type": "code",
   "execution_count": 19,
   "id": "f155c126",
   "metadata": {
    "ExecuteTime": {
     "end_time": "2022-11-25T14:00:23.401046Z",
     "start_time": "2022-11-25T14:00:20.171787Z"
    }
   },
   "outputs": [
    {
     "data": {
      "text/plain": [
       "Text(0, 0.5, 'Frequancy')"
      ]
     },
     "execution_count": 19,
     "metadata": {},
     "output_type": "execute_result"
    },
    {
     "data": {
      "image/png": "[encoded data removed]",
      "text/plain": [
       "<Figure size 432x288 with 1 Axes>"
      ]
     },
     "metadata": {
      "needs_background": "light"
     },
     "output_type": "display_data"
    }
   ],
   "source": [
    "# Create a histogram of the “order_hour_of_day” column\n",
    "hist_order_hour_of_day = ords_prods_merge['order_hour_of_day'].plot.hist(bins = 24, color = 'green')\n",
    "plt.title('Distributions of Orders by Hour of Week', fontsize=13)\n",
    "plt.xlabel('Hours', fontsize=10)\n",
    "plt.ylabel('Frequancy', fontsize=10)"
   ]
  },
  {
   "cell_type": "markdown",
   "id": "d53966a8",
   "metadata": {},
   "source": [
    "Most orders are placed at 10-11am and are steady in the afternoon, starting to drop off at 5pm. There are few orders placed between midnight and 7am."
   ]
  },
  {
   "cell_type": "code",
   "execution_count": 20,
   "id": "8c891cd3",
   "metadata": {
    "ExecuteTime": {
     "end_time": "2022-11-25T14:00:24.747706Z",
     "start_time": "2022-11-25T14:00:23.403824Z"
    }
   },
   "outputs": [
    {
     "data": {
      "image/png": "[encoded data removed]",
      "text/plain": [
       "<Figure size 432x288 with 1 Axes>"
      ]
     },
     "metadata": {
      "needs_background": "light"
     },
     "output_type": "display_data"
    }
   ],
   "source": [
    "# Create a bar chart from the “loyalty_flag” column.\n",
    "bar_loyalty_flag = ords_prods_merge['loyalty_flag'].value_counts().plot.bar(color = 'green')"
   ]
  },
  {
   "cell_type": "markdown",
   "id": "fb7dc640",
   "metadata": {},
   "source": [
    "Largest customers base classed as regular customers, meaning they have placed between 10 and 40 orders."
   ]
  },
  {
   "cell_type": "markdown",
   "id": "cf53ba9e",
   "metadata": {},
   "source": [
    "#### Check whether there’s a difference in expenditure (the “prices” column) depending on the hour of the day. (Hint: To check this, you need to use an accurate sample for your line chart!)"
   ]
  },
  {
   "cell_type": "code",
   "execution_count": 21,
   "id": "885052ae",
   "metadata": {
    "ExecuteTime": {
     "end_time": "2022-11-25T14:00:25.074661Z",
     "start_time": "2022-11-25T14:00:24.751731Z"
    }
   },
   "outputs": [],
   "source": [
    "# Using the earlier splitted data of 30% and selecting the right columns\n",
    "df_prices_hour = small[['order_hour_of_day', 'prices']]"
   ]
  },
  {
   "cell_type": "code",
   "execution_count": 22,
   "id": "88fafc88",
   "metadata": {
    "ExecuteTime": {
     "end_time": "2022-11-25T14:00:25.090242Z",
     "start_time": "2022-11-25T14:00:25.078283Z"
    }
   },
   "outputs": [
    {
     "data": {
      "text/html": [
       "<div>\n",
       "<style scoped>\n",
       "    .dataframe tbody tr th:only-of-type {\n",
       "        vertical-align: middle;\n",
       "    }\n",
       "\n",
       "    .dataframe tbody tr th {\n",
       "        vertical-align: top;\n",
       "    }\n",
       "\n",
       "    .dataframe thead th {\n",
       "        text-align: right;\n",
       "    }\n",
       "</style>\n",
       "<table border=\"1\" class=\"dataframe\">\n",
       "  <thead>\n",
       "    <tr style=\"text-align: right;\">\n",
       "      <th></th>\n",
       "      <th>order_hour_of_day</th>\n",
       "      <th>prices</th>\n",
       "    </tr>\n",
       "  </thead>\n",
       "  <tbody>\n",
       "    <tr>\n",
       "      <th>0</th>\n",
       "      <td>8</td>\n",
       "      <td>9.0</td>\n",
       "    </tr>\n",
       "    <tr>\n",
       "      <th>2</th>\n",
       "      <td>12</td>\n",
       "      <td>9.0</td>\n",
       "    </tr>\n",
       "    <tr>\n",
       "      <th>3</th>\n",
       "      <td>7</td>\n",
       "      <td>9.0</td>\n",
       "    </tr>\n",
       "    <tr>\n",
       "      <th>6</th>\n",
       "      <td>9</td>\n",
       "      <td>9.0</td>\n",
       "    </tr>\n",
       "    <tr>\n",
       "      <th>10</th>\n",
       "      <td>8</td>\n",
       "      <td>12.5</td>\n",
       "    </tr>\n",
       "    <tr>\n",
       "      <th>...</th>\n",
       "      <td>...</td>\n",
       "      <td>...</td>\n",
       "    </tr>\n",
       "    <tr>\n",
       "      <th>32404841</th>\n",
       "      <td>12</td>\n",
       "      <td>10.7</td>\n",
       "    </tr>\n",
       "    <tr>\n",
       "      <th>32404842</th>\n",
       "      <td>3</td>\n",
       "      <td>10.7</td>\n",
       "    </tr>\n",
       "    <tr>\n",
       "      <th>32404843</th>\n",
       "      <td>1</td>\n",
       "      <td>10.7</td>\n",
       "    </tr>\n",
       "    <tr>\n",
       "      <th>32404849</th>\n",
       "      <td>18</td>\n",
       "      <td>10.7</td>\n",
       "    </tr>\n",
       "    <tr>\n",
       "      <th>32404850</th>\n",
       "      <td>20</td>\n",
       "      <td>10.7</td>\n",
       "    </tr>\n",
       "  </tbody>\n",
       "</table>\n",
       "<p>9721098 rows × 2 columns</p>\n",
       "</div>"
      ],
      "text/plain": [
       "          order_hour_of_day  prices\n",
       "0                         8     9.0\n",
       "2                        12     9.0\n",
       "3                         7     9.0\n",
       "6                         9     9.0\n",
       "10                        8    12.5\n",
       "...                     ...     ...\n",
       "32404841                 12    10.7\n",
       "32404842                  3    10.7\n",
       "32404843                  1    10.7\n",
       "32404849                 18    10.7\n",
       "32404850                 20    10.7\n",
       "\n",
       "[9721098 rows x 2 columns]"
      ]
     },
     "execution_count": 22,
     "metadata": {},
     "output_type": "execute_result"
    }
   ],
   "source": [
    "df_prices_hour"
   ]
  },
  {
   "cell_type": "code",
   "execution_count": 23,
   "id": "69bb38ed",
   "metadata": {
    "ExecuteTime": {
     "end_time": "2022-11-25T14:02:25.660096Z",
     "start_time": "2022-11-25T14:00:25.093714Z"
    }
   },
   "outputs": [
    {
     "ename": "KeyboardInterrupt",
     "evalue": "",
     "output_type": "error",
     "traceback": [
      "\u001b[0;31m---------------------------------------------------------------------------\u001b[0m",
      "\u001b[0;31mKeyboardInterrupt\u001b[0m                         Traceback (most recent call last)",
      "Input \u001b[0;32mIn [23]\u001b[0m, in \u001b[0;36m<cell line: 2>\u001b[0;34m()\u001b[0m\n\u001b[1;32m      1\u001b[0m \u001b[38;5;66;03m# Create line chart on 30% of ords_prods_merge sample\u001b[39;00m\n\u001b[0;32m----> 2\u001b[0m line_hour_of_day \u001b[38;5;241m=\u001b[39m \u001b[43msns\u001b[49m\u001b[38;5;241;43m.\u001b[39;49m\u001b[43mlineplot\u001b[49m\u001b[43m(\u001b[49m\u001b[43mdata\u001b[49m\u001b[43m \u001b[49m\u001b[38;5;241;43m=\u001b[39;49m\u001b[43m \u001b[49m\u001b[43mdf_prices_hour\u001b[49m\u001b[43m,\u001b[49m\u001b[43m \u001b[49m\u001b[43mx\u001b[49m\u001b[43m \u001b[49m\u001b[38;5;241;43m=\u001b[39;49m\u001b[43m \u001b[49m\u001b[38;5;124;43m'\u001b[39;49m\u001b[38;5;124;43morder_hour_of_day\u001b[39;49m\u001b[38;5;124;43m'\u001b[39;49m\u001b[43m,\u001b[49m\u001b[43m \u001b[49m\u001b[43my\u001b[49m\u001b[43m \u001b[49m\u001b[38;5;241;43m=\u001b[39;49m\u001b[43m \u001b[49m\u001b[38;5;124;43m'\u001b[39;49m\u001b[38;5;124;43mprices\u001b[39;49m\u001b[38;5;124;43m'\u001b[39;49m\u001b[43m,\u001b[49m\u001b[43m \u001b[49m\u001b[43mcolor\u001b[49m\u001b[43m \u001b[49m\u001b[38;5;241;43m=\u001b[39;49m\u001b[43m \u001b[49m\u001b[38;5;124;43m'\u001b[39;49m\u001b[38;5;124;43mgreen\u001b[39;49m\u001b[38;5;124;43m'\u001b[39;49m\u001b[43m)\u001b[49m\n",
      "File \u001b[0;32m~/opt/anaconda3/lib/python3.9/site-packages/seaborn/_decorators.py:46\u001b[0m, in \u001b[0;36m_deprecate_positional_args.<locals>.inner_f\u001b[0;34m(*args, **kwargs)\u001b[0m\n\u001b[1;32m     36\u001b[0m     warnings\u001b[38;5;241m.\u001b[39mwarn(\n\u001b[1;32m     37\u001b[0m         \u001b[38;5;124m\"\u001b[39m\u001b[38;5;124mPass the following variable\u001b[39m\u001b[38;5;132;01m{}\u001b[39;00m\u001b[38;5;124m as \u001b[39m\u001b[38;5;132;01m{}\u001b[39;00m\u001b[38;5;124mkeyword arg\u001b[39m\u001b[38;5;132;01m{}\u001b[39;00m\u001b[38;5;124m: \u001b[39m\u001b[38;5;132;01m{}\u001b[39;00m\u001b[38;5;124m. \u001b[39m\u001b[38;5;124m\"\u001b[39m\n\u001b[1;32m     38\u001b[0m         \u001b[38;5;124m\"\u001b[39m\u001b[38;5;124mFrom version 0.12, the only valid positional argument \u001b[39m\u001b[38;5;124m\"\u001b[39m\n\u001b[0;32m   (...)\u001b[0m\n\u001b[1;32m     43\u001b[0m         \u001b[38;5;167;01mFutureWarning\u001b[39;00m\n\u001b[1;32m     44\u001b[0m     )\n\u001b[1;32m     45\u001b[0m kwargs\u001b[38;5;241m.\u001b[39mupdate({k: arg \u001b[38;5;28;01mfor\u001b[39;00m k, arg \u001b[38;5;129;01min\u001b[39;00m \u001b[38;5;28mzip\u001b[39m(sig\u001b[38;5;241m.\u001b[39mparameters, args)})\n\u001b[0;32m---> 46\u001b[0m \u001b[38;5;28;01mreturn\u001b[39;00m \u001b[43mf\u001b[49m\u001b[43m(\u001b[49m\u001b[38;5;241;43m*\u001b[39;49m\u001b[38;5;241;43m*\u001b[39;49m\u001b[43mkwargs\u001b[49m\u001b[43m)\u001b[49m\n",
      "File \u001b[0;32m~/opt/anaconda3/lib/python3.9/site-packages/seaborn/relational.py:710\u001b[0m, in \u001b[0;36mlineplot\u001b[0;34m(x, y, hue, size, style, data, palette, hue_order, hue_norm, sizes, size_order, size_norm, dashes, markers, style_order, units, estimator, ci, n_boot, seed, sort, err_style, err_kws, legend, ax, **kwargs)\u001b[0m\n\u001b[1;32m    706\u001b[0m     \u001b[38;5;28;01mreturn\u001b[39;00m ax\n\u001b[1;32m    708\u001b[0m p\u001b[38;5;241m.\u001b[39m_attach(ax)\n\u001b[0;32m--> 710\u001b[0m \u001b[43mp\u001b[49m\u001b[38;5;241;43m.\u001b[39;49m\u001b[43mplot\u001b[49m\u001b[43m(\u001b[49m\u001b[43max\u001b[49m\u001b[43m,\u001b[49m\u001b[43m \u001b[49m\u001b[43mkwargs\u001b[49m\u001b[43m)\u001b[49m\n\u001b[1;32m    711\u001b[0m \u001b[38;5;28;01mreturn\u001b[39;00m ax\n",
      "File \u001b[0;32m~/opt/anaconda3/lib/python3.9/site-packages/seaborn/relational.py:499\u001b[0m, in \u001b[0;36m_LinePlotter.plot\u001b[0;34m(self, ax, kws)\u001b[0m\n\u001b[1;32m    497\u001b[0m         err \u001b[38;5;241m=\u001b[39m \u001b[38;5;124m\"\u001b[39m\u001b[38;5;124mestimator must be None when specifying units\u001b[39m\u001b[38;5;124m\"\u001b[39m\n\u001b[1;32m    498\u001b[0m         \u001b[38;5;28;01mraise\u001b[39;00m \u001b[38;5;167;01mValueError\u001b[39;00m(err)\n\u001b[0;32m--> 499\u001b[0m     x, y, y_ci \u001b[38;5;241m=\u001b[39m \u001b[38;5;28;43mself\u001b[39;49m\u001b[38;5;241;43m.\u001b[39;49m\u001b[43maggregate\u001b[49m\u001b[43m(\u001b[49m\u001b[43my\u001b[49m\u001b[43m,\u001b[49m\u001b[43m \u001b[49m\u001b[43mx\u001b[49m\u001b[43m,\u001b[49m\u001b[43m \u001b[49m\u001b[43mu\u001b[49m\u001b[43m)\u001b[49m\n\u001b[1;32m    500\u001b[0m \u001b[38;5;28;01melse\u001b[39;00m:\n\u001b[1;32m    501\u001b[0m     y_ci \u001b[38;5;241m=\u001b[39m \u001b[38;5;28;01mNone\u001b[39;00m\n",
      "File \u001b[0;32m~/opt/anaconda3/lib/python3.9/site-packages/seaborn/relational.py:414\u001b[0m, in \u001b[0;36m_LinePlotter.aggregate\u001b[0;34m(self, vals, grouper, units)\u001b[0m\n\u001b[1;32m    410\u001b[0m     cis \u001b[38;5;241m=\u001b[39m pd\u001b[38;5;241m.\u001b[39mDataFrame(np\u001b[38;5;241m.\u001b[39mc_[est \u001b[38;5;241m-\u001b[39m sd, est \u001b[38;5;241m+\u001b[39m sd],\n\u001b[1;32m    411\u001b[0m                        index\u001b[38;5;241m=\u001b[39mest\u001b[38;5;241m.\u001b[39mindex,\n\u001b[1;32m    412\u001b[0m                        columns\u001b[38;5;241m=\u001b[39m[\u001b[38;5;124m\"\u001b[39m\u001b[38;5;124mlow\u001b[39m\u001b[38;5;124m\"\u001b[39m, \u001b[38;5;124m\"\u001b[39m\u001b[38;5;124mhigh\u001b[39m\u001b[38;5;124m\"\u001b[39m])\u001b[38;5;241m.\u001b[39mstack()\n\u001b[1;32m    413\u001b[0m \u001b[38;5;28;01melse\u001b[39;00m:\n\u001b[0;32m--> 414\u001b[0m     cis \u001b[38;5;241m=\u001b[39m \u001b[43mgrouped\u001b[49m\u001b[38;5;241;43m.\u001b[39;49m\u001b[43mapply\u001b[49m\u001b[43m(\u001b[49m\u001b[43mbootstrapped_cis\u001b[49m\u001b[43m)\u001b[49m\n\u001b[1;32m    416\u001b[0m \u001b[38;5;66;03m# Unpack the CIs into \"wide\" format for plotting\u001b[39;00m\n\u001b[1;32m    417\u001b[0m \u001b[38;5;28;01mif\u001b[39;00m cis\u001b[38;5;241m.\u001b[39mnotnull()\u001b[38;5;241m.\u001b[39many():\n",
      "File \u001b[0;32m~/opt/anaconda3/lib/python3.9/site-packages/pandas/core/groupby/generic.py:244\u001b[0m, in \u001b[0;36mSeriesGroupBy.apply\u001b[0;34m(self, func, *args, **kwargs)\u001b[0m\n\u001b[1;32m    238\u001b[0m \u001b[38;5;129m@Appender\u001b[39m(\n\u001b[1;32m    239\u001b[0m     _apply_docs[\u001b[38;5;124m\"\u001b[39m\u001b[38;5;124mtemplate\u001b[39m\u001b[38;5;124m\"\u001b[39m]\u001b[38;5;241m.\u001b[39mformat(\n\u001b[1;32m    240\u001b[0m         \u001b[38;5;28minput\u001b[39m\u001b[38;5;241m=\u001b[39m\u001b[38;5;124m\"\u001b[39m\u001b[38;5;124mseries\u001b[39m\u001b[38;5;124m\"\u001b[39m, examples\u001b[38;5;241m=\u001b[39m_apply_docs[\u001b[38;5;124m\"\u001b[39m\u001b[38;5;124mseries_examples\u001b[39m\u001b[38;5;124m\"\u001b[39m]\n\u001b[1;32m    241\u001b[0m     )\n\u001b[1;32m    242\u001b[0m )\n\u001b[1;32m    243\u001b[0m \u001b[38;5;28;01mdef\u001b[39;00m \u001b[38;5;21mapply\u001b[39m(\u001b[38;5;28mself\u001b[39m, func, \u001b[38;5;241m*\u001b[39margs, \u001b[38;5;241m*\u001b[39m\u001b[38;5;241m*\u001b[39mkwargs):\n\u001b[0;32m--> 244\u001b[0m     \u001b[38;5;28;01mreturn\u001b[39;00m \u001b[38;5;28;43msuper\u001b[39;49m\u001b[43m(\u001b[49m\u001b[43m)\u001b[49m\u001b[38;5;241;43m.\u001b[39;49m\u001b[43mapply\u001b[49m\u001b[43m(\u001b[49m\u001b[43mfunc\u001b[49m\u001b[43m,\u001b[49m\u001b[43m \u001b[49m\u001b[38;5;241;43m*\u001b[39;49m\u001b[43margs\u001b[49m\u001b[43m,\u001b[49m\u001b[43m \u001b[49m\u001b[38;5;241;43m*\u001b[39;49m\u001b[38;5;241;43m*\u001b[39;49m\u001b[43mkwargs\u001b[49m\u001b[43m)\u001b[49m\n",
      "File \u001b[0;32m~/opt/anaconda3/lib/python3.9/site-packages/pandas/core/groupby/groupby.py:1414\u001b[0m, in \u001b[0;36mGroupBy.apply\u001b[0;34m(self, func, *args, **kwargs)\u001b[0m\n\u001b[1;32m   1412\u001b[0m \u001b[38;5;28;01mwith\u001b[39;00m option_context(\u001b[38;5;124m\"\u001b[39m\u001b[38;5;124mmode.chained_assignment\u001b[39m\u001b[38;5;124m\"\u001b[39m, \u001b[38;5;28;01mNone\u001b[39;00m):\n\u001b[1;32m   1413\u001b[0m     \u001b[38;5;28;01mtry\u001b[39;00m:\n\u001b[0;32m-> 1414\u001b[0m         result \u001b[38;5;241m=\u001b[39m \u001b[38;5;28;43mself\u001b[39;49m\u001b[38;5;241;43m.\u001b[39;49m\u001b[43m_python_apply_general\u001b[49m\u001b[43m(\u001b[49m\u001b[43mf\u001b[49m\u001b[43m,\u001b[49m\u001b[43m \u001b[49m\u001b[38;5;28;43mself\u001b[39;49m\u001b[38;5;241;43m.\u001b[39;49m\u001b[43m_selected_obj\u001b[49m\u001b[43m)\u001b[49m\n\u001b[1;32m   1415\u001b[0m     \u001b[38;5;28;01mexcept\u001b[39;00m \u001b[38;5;167;01mTypeError\u001b[39;00m:\n\u001b[1;32m   1416\u001b[0m         \u001b[38;5;66;03m# gh-20949\u001b[39;00m\n\u001b[1;32m   1417\u001b[0m         \u001b[38;5;66;03m# try again, with .apply acting as a filtering\u001b[39;00m\n\u001b[0;32m   (...)\u001b[0m\n\u001b[1;32m   1421\u001b[0m         \u001b[38;5;66;03m# fails on *some* columns, e.g. a numeric operation\u001b[39;00m\n\u001b[1;32m   1422\u001b[0m         \u001b[38;5;66;03m# on a string grouper column\u001b[39;00m\n\u001b[1;32m   1424\u001b[0m         \u001b[38;5;28;01mwith\u001b[39;00m \u001b[38;5;28mself\u001b[39m\u001b[38;5;241m.\u001b[39m_group_selection_context():\n",
      "File \u001b[0;32m~/opt/anaconda3/lib/python3.9/site-packages/pandas/core/groupby/groupby.py:1455\u001b[0m, in \u001b[0;36mGroupBy._python_apply_general\u001b[0;34m(self, f, data, not_indexed_same)\u001b[0m\n\u001b[1;32m   1429\u001b[0m \u001b[38;5;129m@final\u001b[39m\n\u001b[1;32m   1430\u001b[0m \u001b[38;5;28;01mdef\u001b[39;00m \u001b[38;5;21m_python_apply_general\u001b[39m(\n\u001b[1;32m   1431\u001b[0m     \u001b[38;5;28mself\u001b[39m,\n\u001b[0;32m   (...)\u001b[0m\n\u001b[1;32m   1434\u001b[0m     not_indexed_same: \u001b[38;5;28mbool\u001b[39m \u001b[38;5;241m|\u001b[39m \u001b[38;5;28;01mNone\u001b[39;00m \u001b[38;5;241m=\u001b[39m \u001b[38;5;28;01mNone\u001b[39;00m,\n\u001b[1;32m   1435\u001b[0m ) \u001b[38;5;241m-\u001b[39m\u001b[38;5;241m>\u001b[39m DataFrame \u001b[38;5;241m|\u001b[39m Series:\n\u001b[1;32m   1436\u001b[0m     \u001b[38;5;124;03m\"\"\"\u001b[39;00m\n\u001b[1;32m   1437\u001b[0m \u001b[38;5;124;03m    Apply function f in python space\u001b[39;00m\n\u001b[1;32m   1438\u001b[0m \n\u001b[0;32m   (...)\u001b[0m\n\u001b[1;32m   1453\u001b[0m \u001b[38;5;124;03m        data after applying f\u001b[39;00m\n\u001b[1;32m   1454\u001b[0m \u001b[38;5;124;03m    \"\"\"\u001b[39;00m\n\u001b[0;32m-> 1455\u001b[0m     values, mutated \u001b[38;5;241m=\u001b[39m \u001b[38;5;28;43mself\u001b[39;49m\u001b[38;5;241;43m.\u001b[39;49m\u001b[43mgrouper\u001b[49m\u001b[38;5;241;43m.\u001b[39;49m\u001b[43mapply\u001b[49m\u001b[43m(\u001b[49m\u001b[43mf\u001b[49m\u001b[43m,\u001b[49m\u001b[43m \u001b[49m\u001b[43mdata\u001b[49m\u001b[43m,\u001b[49m\u001b[43m \u001b[49m\u001b[38;5;28;43mself\u001b[39;49m\u001b[38;5;241;43m.\u001b[39;49m\u001b[43maxis\u001b[49m\u001b[43m)\u001b[49m\n\u001b[1;32m   1457\u001b[0m     \u001b[38;5;28;01mif\u001b[39;00m not_indexed_same \u001b[38;5;129;01mis\u001b[39;00m \u001b[38;5;28;01mNone\u001b[39;00m:\n\u001b[1;32m   1458\u001b[0m         not_indexed_same \u001b[38;5;241m=\u001b[39m mutated \u001b[38;5;129;01mor\u001b[39;00m \u001b[38;5;28mself\u001b[39m\u001b[38;5;241m.\u001b[39mmutated\n",
      "File \u001b[0;32m~/opt/anaconda3/lib/python3.9/site-packages/pandas/core/groupby/ops.py:761\u001b[0m, in \u001b[0;36mBaseGrouper.apply\u001b[0;34m(self, f, data, axis)\u001b[0m\n\u001b[1;32m    759\u001b[0m \u001b[38;5;66;03m# group might be modified\u001b[39;00m\n\u001b[1;32m    760\u001b[0m group_axes \u001b[38;5;241m=\u001b[39m group\u001b[38;5;241m.\u001b[39maxes\n\u001b[0;32m--> 761\u001b[0m res \u001b[38;5;241m=\u001b[39m \u001b[43mf\u001b[49m\u001b[43m(\u001b[49m\u001b[43mgroup\u001b[49m\u001b[43m)\u001b[49m\n\u001b[1;32m    762\u001b[0m \u001b[38;5;28;01mif\u001b[39;00m \u001b[38;5;129;01mnot\u001b[39;00m mutated \u001b[38;5;129;01mand\u001b[39;00m \u001b[38;5;129;01mnot\u001b[39;00m _is_indexed_like(res, group_axes, axis):\n\u001b[1;32m    763\u001b[0m     mutated \u001b[38;5;241m=\u001b[39m \u001b[38;5;28;01mTrue\u001b[39;00m\n",
      "File \u001b[0;32m~/opt/anaconda3/lib/python3.9/site-packages/seaborn/relational.py:395\u001b[0m, in \u001b[0;36m_LinePlotter.aggregate.<locals>.bootstrapped_cis\u001b[0;34m(vals)\u001b[0m\n\u001b[1;32m    392\u001b[0m \u001b[38;5;28;01mif\u001b[39;00m \u001b[38;5;28mlen\u001b[39m(vals) \u001b[38;5;241m<\u001b[39m\u001b[38;5;241m=\u001b[39m \u001b[38;5;241m1\u001b[39m:\n\u001b[1;32m    393\u001b[0m     \u001b[38;5;28;01mreturn\u001b[39;00m null_ci\n\u001b[0;32m--> 395\u001b[0m boots \u001b[38;5;241m=\u001b[39m \u001b[43mbootstrap\u001b[49m\u001b[43m(\u001b[49m\u001b[43mvals\u001b[49m\u001b[43m,\u001b[49m\u001b[43m \u001b[49m\u001b[43mfunc\u001b[49m\u001b[38;5;241;43m=\u001b[39;49m\u001b[43mfunc\u001b[49m\u001b[43m,\u001b[49m\u001b[43m \u001b[49m\u001b[43mn_boot\u001b[49m\u001b[38;5;241;43m=\u001b[39;49m\u001b[43mn_boot\u001b[49m\u001b[43m,\u001b[49m\u001b[43m \u001b[49m\u001b[43mseed\u001b[49m\u001b[38;5;241;43m=\u001b[39;49m\u001b[43mseed\u001b[49m\u001b[43m)\u001b[49m\n\u001b[1;32m    396\u001b[0m cis \u001b[38;5;241m=\u001b[39m ci_func(boots, ci)\n\u001b[1;32m    397\u001b[0m \u001b[38;5;28;01mreturn\u001b[39;00m pd\u001b[38;5;241m.\u001b[39mSeries(cis, [\u001b[38;5;124m\"\u001b[39m\u001b[38;5;124mlow\u001b[39m\u001b[38;5;124m\"\u001b[39m, \u001b[38;5;124m\"\u001b[39m\u001b[38;5;124mhigh\u001b[39m\u001b[38;5;124m\"\u001b[39m])\n",
      "File \u001b[0;32m~/opt/anaconda3/lib/python3.9/site-packages/seaborn/algorithms.py:84\u001b[0m, in \u001b[0;36mbootstrap\u001b[0;34m(*args, **kwargs)\u001b[0m\n\u001b[1;32m     82\u001b[0m \u001b[38;5;28;01mfor\u001b[39;00m i \u001b[38;5;129;01min\u001b[39;00m \u001b[38;5;28mrange\u001b[39m(\u001b[38;5;28mint\u001b[39m(n_boot)):\n\u001b[1;32m     83\u001b[0m     resampler \u001b[38;5;241m=\u001b[39m integers(\u001b[38;5;241m0\u001b[39m, n, n, dtype\u001b[38;5;241m=\u001b[39mnp\u001b[38;5;241m.\u001b[39mintp)  \u001b[38;5;66;03m# intp is indexing dtype\u001b[39;00m\n\u001b[0;32m---> 84\u001b[0m     sample \u001b[38;5;241m=\u001b[39m [a\u001b[38;5;241m.\u001b[39mtake(resampler, axis\u001b[38;5;241m=\u001b[39m\u001b[38;5;241m0\u001b[39m) \u001b[38;5;28;01mfor\u001b[39;00m a \u001b[38;5;129;01min\u001b[39;00m args]\n\u001b[1;32m     85\u001b[0m     boot_dist\u001b[38;5;241m.\u001b[39mappend(f(\u001b[38;5;241m*\u001b[39msample, \u001b[38;5;241m*\u001b[39m\u001b[38;5;241m*\u001b[39mfunc_kwargs))\n\u001b[1;32m     86\u001b[0m \u001b[38;5;28;01mreturn\u001b[39;00m np\u001b[38;5;241m.\u001b[39marray(boot_dist)\n",
      "File \u001b[0;32m~/opt/anaconda3/lib/python3.9/site-packages/seaborn/algorithms.py:84\u001b[0m, in \u001b[0;36m<listcomp>\u001b[0;34m(.0)\u001b[0m\n\u001b[1;32m     82\u001b[0m \u001b[38;5;28;01mfor\u001b[39;00m i \u001b[38;5;129;01min\u001b[39;00m \u001b[38;5;28mrange\u001b[39m(\u001b[38;5;28mint\u001b[39m(n_boot)):\n\u001b[1;32m     83\u001b[0m     resampler \u001b[38;5;241m=\u001b[39m integers(\u001b[38;5;241m0\u001b[39m, n, n, dtype\u001b[38;5;241m=\u001b[39mnp\u001b[38;5;241m.\u001b[39mintp)  \u001b[38;5;66;03m# intp is indexing dtype\u001b[39;00m\n\u001b[0;32m---> 84\u001b[0m     sample \u001b[38;5;241m=\u001b[39m [\u001b[43ma\u001b[49m\u001b[38;5;241;43m.\u001b[39;49m\u001b[43mtake\u001b[49m\u001b[43m(\u001b[49m\u001b[43mresampler\u001b[49m\u001b[43m,\u001b[49m\u001b[43m \u001b[49m\u001b[43maxis\u001b[49m\u001b[38;5;241;43m=\u001b[39;49m\u001b[38;5;241;43m0\u001b[39;49m\u001b[43m)\u001b[49m \u001b[38;5;28;01mfor\u001b[39;00m a \u001b[38;5;129;01min\u001b[39;00m args]\n\u001b[1;32m     85\u001b[0m     boot_dist\u001b[38;5;241m.\u001b[39mappend(f(\u001b[38;5;241m*\u001b[39msample, \u001b[38;5;241m*\u001b[39m\u001b[38;5;241m*\u001b[39mfunc_kwargs))\n\u001b[1;32m     86\u001b[0m \u001b[38;5;28;01mreturn\u001b[39;00m np\u001b[38;5;241m.\u001b[39marray(boot_dist)\n",
      "\u001b[0;31mKeyboardInterrupt\u001b[0m: "
     ]
    },
    {
     "data": {
      "image/png": "[encoded data removed]",
      "text/plain": [
       "<Figure size 432x288 with 1 Axes>"
      ]
     },
     "metadata": {
      "needs_background": "light"
     },
     "output_type": "display_data"
    }
   ],
   "source": [
    "# Create line chart on 30% of ords_prods_merge sample\n",
    "line_hour_of_day = sns.lineplot(data = df_prices_hour, x = 'order_hour_of_day', y = 'prices', color = 'green')"
   ]
  },
  {
   "cell_type": "markdown",
   "id": "4cb8d0dc",
   "metadata": {},
   "source": [
    "Customers seem to spend more in the early morning. Which is where we don't see many orders coming through. Indicating these are higher value orders than customers place during the day.\n",
    "A high frequency of orders with a low expenditure during the day (particularly 10-11am) and a low frequency of orders with a high expenditure between 12-7am."
   ]
  },
  {
   "cell_type": "markdown",
   "id": "ddbf105f",
   "metadata": {},
   "source": [
    "#### Now that you have information about customers, you need to conduct some exploratory analysis of customer demographics to inform the targeted marketing campaigns. First, determine whether there’s a connection between age and family situation by creating a line chart exploring the connections between age and number of dependents:\n",
    "In a markdown cell beneath your line chart, describe what the line chart shows."
   ]
  },
  {
   "cell_type": "code",
   "execution_count": null,
   "id": "2be61cf2",
   "metadata": {
    "ExecuteTime": {
     "end_time": "2022-11-25T14:02:25.664986Z",
     "start_time": "2022-11-25T14:02:25.664684Z"
    }
   },
   "outputs": [],
   "source": [
    "# Creating new data frame with just the columns needed for the line chart of customer demographics\n",
    "df_fam_status_age = small[['age','no_of_dependents']]"
   ]
  },
  {
   "cell_type": "code",
   "execution_count": null,
   "id": "8977cf2d",
   "metadata": {
    "ExecuteTime": {
     "end_time": "2022-11-25T14:02:25.671064Z",
     "start_time": "2022-11-25T14:02:25.671027Z"
    }
   },
   "outputs": [],
   "source": [
    "df_fam_status_age"
   ]
  },
  {
   "cell_type": "code",
   "execution_count": null,
   "id": "6281f6a5",
   "metadata": {
    "ExecuteTime": {
     "end_time": "2022-11-25T14:02:25.673248Z",
     "start_time": "2022-11-25T14:02:25.673219Z"
    },
    "scrolled": true
   },
   "outputs": [],
   "source": [
    "#create line chart fam_status_age\n",
    "line_fam_status_age = sns.lineplot(data = df_fam_status_age, x = 'age',y = 'no_of_dependents', color = 'green')"
   ]
  },
  {
   "cell_type": "code",
   "execution_count": null,
   "id": "1bdb7e54",
   "metadata": {
    "ExecuteTime": {
     "end_time": "2022-11-25T14:02:25.676984Z",
     "start_time": "2022-11-25T14:02:25.676955Z"
    }
   },
   "outputs": [],
   "source": [
    "df_fam_status_age['no_of_dependents'].describe()"
   ]
  },
  {
   "cell_type": "markdown",
   "id": "1dc88560",
   "metadata": {},
   "source": [
    "There is no clear trend or connection between age and number of dependents for Instacart customers."
   ]
  },
  {
   "cell_type": "markdown",
   "id": "51cb0197",
   "metadata": {},
   "source": [
    "#### You’ll also need to explore whether there’s a connection between age and spending power (income). To visualize this relationship, create a scatterplot using the sns.scatterplot() function.\n",
    "In a markdown cell beneath your scatterplot, describe what the scatterplot shows."
   ]
  },
  {
   "cell_type": "code",
   "execution_count": 36,
   "id": "2a751f63",
   "metadata": {
    "ExecuteTime": {
     "end_time": "2022-11-25T14:19:06.666007Z",
     "start_time": "2022-11-25T14:18:39.588975Z"
    },
    "scrolled": true
   },
   "outputs": [
    {
     "data": {
      "image/png": "[encoded data removed]",
      "text/plain": [
       "<Figure size 432x288 with 1 Axes>"
      ]
     },
     "metadata": {
      "needs_background": "light"
     },
     "output_type": "display_data"
    }
   ],
   "source": [
    "# scatterplot income\n",
    "splot_income = sns.scatterplot(x = 'age', y = 'income',data = ords_prods_merge, color = 'green')\n"
   ]
  },
  {
   "cell_type": "markdown",
   "id": "7a37faf7",
   "metadata": {},
   "source": [
    "The scatterplot shows the relationship between age and spending power. We can see that\n",
    "The majority of customers aged 20-40 have an income of upto 200,000 USD.\n",
    "\n",
    "This income rises to 300,000 USD within the 40+ age group, although the concentration of the dots shows that there are still more customers that fall into to the upto 200,000 USD bracket.\n",
    "\n",
    "The spending power of instacart customers is higher within the 40+ age group, reaching 60,000 USD.\n",
    "\n",
    "There are some customers in the under 40 age group that have a higher spending power than the majority of 40+ group."
   ]
  },
  {
   "cell_type": "markdown",
   "id": "2d8cae42",
   "metadata": {},
   "source": [
    "### Export"
   ]
  },
  {
   "cell_type": "code",
   "execution_count": 70,
   "id": "602d5965",
   "metadata": {
    "ExecuteTime": {
     "end_time": "2022-11-07T18:09:29.796867Z",
     "start_time": "2022-11-07T18:09:29.757711Z"
    }
   },
   "outputs": [],
   "source": [
    "bar_orders_day_of_week.figure.savefig(os.path.join(path, '04 Analysis','Visualizations', 'bar_orders_day_of_week.png'))"
   ]
  },
  {
   "cell_type": "code",
   "execution_count": 71,
   "id": "01f2032b",
   "metadata": {
    "ExecuteTime": {
     "end_time": "2022-11-07T18:09:30.291486Z",
     "start_time": "2022-11-07T18:09:30.233268Z"
    }
   },
   "outputs": [],
   "source": [
    "hist_income.figure.savefig(os.path.join(path, '04 Analysis','Visualizations', 'hist_income.png'))"
   ]
  },
  {
   "cell_type": "code",
   "execution_count": 83,
   "id": "34bbacdc",
   "metadata": {
    "ExecuteTime": {
     "end_time": "2022-11-07T18:36:02.566571Z",
     "start_time": "2022-11-07T18:36:02.516953Z"
    }
   },
   "outputs": [],
   "source": [
    "hist_prices.figure.savefig(os.path.join(path, '04 Analysis','Visualizations', 'hist_prices.png'))"
   ]
  },
  {
   "cell_type": "code",
   "execution_count": 73,
   "id": "08a57464",
   "metadata": {
    "ExecuteTime": {
     "end_time": "2022-11-07T18:09:54.243162Z",
     "start_time": "2022-11-07T18:09:30.613264Z"
    }
   },
   "outputs": [],
   "source": [
    "splot_prices.figure.savefig(os.path.join(path, '04 Analysis','Visualizations', 'splot_prices.png'))"
   ]
  },
  {
   "cell_type": "code",
   "execution_count": 74,
   "id": "9c08704a",
   "metadata": {
    "ExecuteTime": {
     "end_time": "2022-11-07T18:09:54.279109Z",
     "start_time": "2022-11-07T18:09:54.245746Z"
    }
   },
   "outputs": [],
   "source": [
    "line.figure.savefig(os.path.join(path, '04 Analysis','Visualizations', 'line_dow_prices.png'))"
   ]
  },
  {
   "cell_type": "code",
   "execution_count": 75,
   "id": "ad49bdea",
   "metadata": {
    "ExecuteTime": {
     "end_time": "2022-11-07T18:09:54.327473Z",
     "start_time": "2022-11-07T18:09:54.281001Z"
    }
   },
   "outputs": [],
   "source": [
    "hist_order_hour_of_day.figure.savefig(os.path.join(path, '04 Analysis','Visualizations', 'hist_order_hour_of_day'))"
   ]
  },
  {
   "cell_type": "code",
   "execution_count": 76,
   "id": "ac5f1860",
   "metadata": {
    "ExecuteTime": {
     "end_time": "2022-11-07T18:09:54.365213Z",
     "start_time": "2022-11-07T18:09:54.330585Z"
    }
   },
   "outputs": [],
   "source": [
    "bar_loyalty_flag.figure.savefig(os.path.join(path, '04 Analysis','Visualizations', 'bar_loyalty_flag.png'))"
   ]
  },
  {
   "cell_type": "code",
   "execution_count": 77,
   "id": "3be02b2b",
   "metadata": {
    "ExecuteTime": {
     "end_time": "2022-11-07T18:09:54.399780Z",
     "start_time": "2022-11-07T18:09:54.367122Z"
    },
    "scrolled": true
   },
   "outputs": [],
   "source": [
    "line_hour_of_day.figure.savefig(os.path.join(path, '04 Analysis','Visualizations', 'line_hour_of_day.png'))"
   ]
  },
  {
   "cell_type": "code",
   "execution_count": 78,
   "id": "479cf762",
   "metadata": {
    "ExecuteTime": {
     "end_time": "2022-11-07T18:09:54.438136Z",
     "start_time": "2022-11-07T18:09:54.401321Z"
    }
   },
   "outputs": [],
   "source": [
    "line_fam_status_age.figure.savefig(os.path.join(path, '04 Analysis','Visualizations', 'line_fam_status_age'))"
   ]
  },
  {
   "cell_type": "code",
   "execution_count": 79,
   "id": "66b990e1",
   "metadata": {
    "ExecuteTime": {
     "end_time": "2022-11-07T18:10:17.667545Z",
     "start_time": "2022-11-07T18:09:54.440133Z"
    }
   },
   "outputs": [],
   "source": [
    "splot_income.figure.savefig(os.path.join(path, '04 Analysis','Visualizations', 'splot_income'))"
   ]
  }
 ],
 "metadata": {
  "kernelspec": {
   "display_name": "Python 3 (ipykernel)",
   "language": "python",
   "name": "python3"
  },
  "language_info": {
   "codemirror_mode": {
    "name": "ipython",
    "version": 3
   },
   "file_extension": ".py",
   "mimetype": "text/x-python",
   "name": "python",
   "nbconvert_exporter": "python",
   "pygments_lexer": "ipython3",
   "version": "3.9.12"
  }
 },
 "nbformat": 4,
 "nbformat_minor": 5
}

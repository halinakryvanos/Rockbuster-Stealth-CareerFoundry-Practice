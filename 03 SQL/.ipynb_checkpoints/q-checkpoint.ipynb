{
 "cells": [
  {
   "cell_type": "code",
   "execution_count": 2,
   "id": "1151cb0f",
   "metadata": {},
   "outputs": [],
   "source": [
    "# Import libraries\n",
    "import pandas as pd\n",
    "import numpy as np\n",
    "import os"
   ]
  },
  {
   "cell_type": "code",
   "execution_count": 10,
   "id": "1e354590",
   "metadata": {},
   "outputs": [],
   "source": [
    "#designation\n",
    "x = 99\n",
    "y = 1\n",
    "z = 101"
   ]
  },
  {
   "cell_type": "code",
   "execution_count": 6,
   "id": "ceb9f8af",
   "metadata": {},
   "outputs": [
    {
     "data": {
      "text/plain": [
       "100"
      ]
     },
     "execution_count": 6,
     "metadata": {},
     "output_type": "execute_result"
    }
   ],
   "source": [
    "#adding\n",
    "x+y"
   ]
  },
  {
   "cell_type": "code",
   "execution_count": 11,
   "id": "edf5b211",
   "metadata": {},
   "outputs": [
    {
     "data": {
      "text/plain": [
       "100"
      ]
     },
     "execution_count": 11,
     "metadata": {},
     "output_type": "execute_result"
    }
   ],
   "source": [
    "#adding\n",
    "x+1"
   ]
  },
  {
   "cell_type": "code",
   "execution_count": 13,
   "id": "accc389d",
   "metadata": {},
   "outputs": [
    {
     "data": {
      "text/plain": [
       "100"
      ]
     },
     "execution_count": 13,
     "metadata": {},
     "output_type": "execute_result"
    }
   ],
   "source": [
    "z-y"
   ]
  },
  {
   "cell_type": "code",
   "execution_count": 16,
   "id": "bc011c1b",
   "metadata": {},
   "outputs": [
    {
     "data": {
      "text/plain": [
       "100"
      ]
     },
     "execution_count": 16,
     "metadata": {},
     "output_type": "execute_result"
    }
   ],
   "source": [
    "z-1"
   ]
  },
  {
   "cell_type": "code",
   "execution_count": 18,
   "id": "2224edf1",
   "metadata": {},
   "outputs": [],
   "source": [
    "#designation floating-point variables\n",
    "e = 2.44\n",
    "d = 1.22"
   ]
  },
  {
   "cell_type": "code",
   "execution_count": 20,
   "id": "da61e86c",
   "metadata": {},
   "outputs": [
    {
     "data": {
      "text/plain": [
       "2.0"
      ]
     },
     "execution_count": 20,
     "metadata": {},
     "output_type": "execute_result"
    }
   ],
   "source": [
    "#divide\n",
    "e/d"
   ]
  },
  {
   "cell_type": "code",
   "execution_count": 22,
   "id": "e43bbbf6",
   "metadata": {},
   "outputs": [
    {
     "data": {
      "text/plain": [
       "2.0"
      ]
     },
     "execution_count": 22,
     "metadata": {},
     "output_type": "execute_result"
    }
   ],
   "source": [
    "#divide\n",
    "e/1.22"
   ]
  },
  {
   "cell_type": "code",
   "execution_count": 59,
   "id": "3a15daa8",
   "metadata": {},
   "outputs": [],
   "source": [
    "#designation words\n",
    "c = 'Hello '\n",
    "j = 'Gunjan'\n",
    "h = 'How are You doing?'"
   ]
  },
  {
   "cell_type": "code",
   "execution_count": 60,
   "id": "3754f53d",
   "metadata": {
    "scrolled": false
   },
   "outputs": [
    {
     "name": "stdout",
     "output_type": "stream",
     "text": [
      "Hello Gunjan\n"
     ]
    }
   ],
   "source": [
    "print (c+j)"
   ]
  },
  {
   "cell_type": "code",
   "execution_count": 61,
   "id": "fd6f1157",
   "metadata": {},
   "outputs": [
    {
     "data": {
      "text/plain": [
       "'Hello Gunjan'"
      ]
     },
     "execution_count": 61,
     "metadata": {},
     "output_type": "execute_result"
    }
   ],
   "source": [
    "c+j"
   ]
  },
  {
   "cell_type": "code",
   "execution_count": 62,
   "id": "3bd24d6e",
   "metadata": {
    "scrolled": true
   },
   "outputs": [
    {
     "name": "stdout",
     "output_type": "stream",
     "text": [
      "Hello Gunjan\n",
      "How are You doing?\n"
     ]
    }
   ],
   "source": [
    "print (c+j)\n",
    "print (h)"
   ]
  },
  {
   "cell_type": "code",
   "execution_count": 63,
   "id": "22626559",
   "metadata": {},
   "outputs": [
    {
     "name": "stdout",
     "output_type": "stream",
     "text": [
      "Hello Gunjan, How are You doing?\n"
     ]
    }
   ],
   "source": [
    "print ('Hello', 'Gunjan,',\n",
    "      'How are You doing?')"
   ]
  },
  {
   "cell_type": "code",
   "execution_count": 64,
   "id": "0767af76",
   "metadata": {
    "scrolled": false
   },
   "outputs": [
    {
     "name": "stdout",
     "output_type": "stream",
     "text": [
      "Hello Gunjan, \n",
      "How are You doing?\n"
     ]
    }
   ],
   "source": [
    "print ('Hello', 'Gunjan,','\\n'\n",
    "      'How are You doing?')"
   ]
  }
 ],
 "metadata": {
  "kernelspec": {
   "display_name": "Python 3 (ipykernel)",
   "language": "python",
   "name": "python3"
  },
  "language_info": {
   "codemirror_mode": {
    "name": "ipython",
    "version": 3
   },
   "file_extension": ".py",
   "mimetype": "text/x-python",
   "name": "python",
   "nbconvert_exporter": "python",
   "pygments_lexer": "ipython3",
   "version": "3.9.12"
  }
 },
 "nbformat": 4,
 "nbformat_minor": 5
}
